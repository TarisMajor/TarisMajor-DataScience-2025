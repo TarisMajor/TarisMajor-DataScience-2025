{
  "cells": [
    {
      "cell_type": "markdown",
      "metadata": {
        "id": "view-in-github",
        "colab_type": "text"
      },
      "source": [
        "<a href=\"https://colab.research.google.com/github/TarisMajor/TarisMajor-DataScience-2025/blob/main/Completed/06-Working_with_Data/02-pandas_series_and_dataframes.ipynb\" target=\"_parent\"><img src=\"https://colab.research.google.com/assets/colab-badge.svg\" alt=\"Open In Colab\"/></a>"
      ]
    },
    {
      "cell_type": "markdown",
      "metadata": {
        "id": "IzxiQbGzoCMo"
      },
      "source": [
        "# 🐼 Notebook 02: Pandas Series and DataFrames\n",
        "\n",
        "Congratulations. You've graduated from lists and dictionaries — it’s time to wield a more powerful tool: **Pandas**.\n",
        "\n",
        "This notebook introduces you to the two most essential data structures in data science:\n",
        "\n",
        "- `Series`: a one-dimensional labeled array (like a dictionary and list had a well-organized child)\n",
        "- `DataFrame`: a two-dimensional table with labeled axes (basically Excel’s smarter cousin)\n",
        "\n",
        "---"
      ]
    },
    {
      "cell_type": "code",
      "execution_count": 1,
      "metadata": {
        "id": "t28x-hLaoCMq"
      },
      "outputs": [],
      "source": [
        "import pandas as pd"
      ]
    },
    {
      "cell_type": "markdown",
      "metadata": {
        "id": "6wJDMd7_oCMs"
      },
      "source": [
        "## 🔢 Series from a List\n",
        "Simple but powerful — labels give it superpowers."
      ]
    },
    {
      "cell_type": "code",
      "execution_count": 2,
      "metadata": {
        "id": "WgB1UHnooCMs",
        "outputId": "001583b9-cf5b-4e26-c3b0-9c3df4a8c434",
        "colab": {
          "base_uri": "https://localhost:8080/"
        }
      },
      "outputs": [
        {
          "output_type": "stream",
          "name": "stdout",
          "text": [
            "Grocery Prices:\n",
            "Apple    2.99\n",
            "Milk     4.49\n",
            "Bread    1.99\n",
            "dtype: float64\n",
            "\n",
            "Price of Milk: 4.49\n"
          ]
        }
      ],
      "source": [
        "# A Series from a list — just like a list, but fancier and labeled\n",
        "prices = pd.Series([2.99, 4.49, 1.99], index=[\"Apple\", \"Milk\", \"Bread\"])\n",
        "print(\"Grocery Prices:\")\n",
        "print(prices)\n",
        "\n",
        "# Accessing elements like a dictionary\n",
        "print(\"\\nPrice of Milk:\", prices[\"Milk\"])"
      ]
    },
    {
      "cell_type": "markdown",
      "metadata": {
        "id": "27ONyTguoCMs"
      },
      "source": [
        "## 🗺️ Series from a Dictionary\n",
        "Keys become the index — pretty intuitive, right?"
      ]
    },
    {
      "cell_type": "code",
      "execution_count": 3,
      "metadata": {
        "id": "FpeAgemaoCMs",
        "outputId": "f4339d5f-6611-44d6-a09f-41d0c7337814",
        "colab": {
          "base_uri": "https://localhost:8080/"
        }
      },
      "outputs": [
        {
          "output_type": "stream",
          "name": "stdout",
          "text": [
            "State Populations:\n",
            "Texas         29000000\n",
            "California    39000000\n",
            "New York      19000000\n",
            "dtype: int64\n",
            "\n",
            "Population in millions:\n",
            "Texas         29.0\n",
            "California    39.0\n",
            "New York      19.0\n",
            "dtype: float64\n"
          ]
        }
      ],
      "source": [
        "population = {\n",
        "    \"Texas\": 29_000_000,\n",
        "    \"California\": 39_000_000,\n",
        "    \"New York\": 19_000_000\n",
        "}\n",
        "\n",
        "state_pop = pd.Series(population)\n",
        "print(\"State Populations:\")\n",
        "print(state_pop)\n",
        "\n",
        "# Series support math!\n",
        "print(\"\\nPopulation in millions:\")\n",
        "print(state_pop / 1_000_000)"
      ]
    },
    {
      "cell_type": "markdown",
      "metadata": {
        "id": "ai9whGFLoCMt"
      },
      "source": [
        "## 📋 Creating a DataFrame\n",
        "Like a spreadsheet, but you control the universe."
      ]
    },
    {
      "cell_type": "code",
      "execution_count": 4,
      "metadata": {
        "id": "V1NiE-DOoCMt",
        "outputId": "08e6f948-ff71-4a52-d5d0-1b0a5fecf6f1",
        "colab": {
          "base_uri": "https://localhost:8080/"
        }
      },
      "outputs": [
        {
          "output_type": "stream",
          "name": "stdout",
          "text": [
            "Student DataFrame:\n",
            "      Name  GPA  Credits  Graduating\n",
            "0    Alice  3.9       90       False\n",
            "1      Bob  2.7       45       False\n",
            "2  Charlie  3.4       60       False\n",
            "3    Diana  3.8      120        True\n"
          ]
        }
      ],
      "source": [
        "# Creating a DataFrame — the bread and butter of Pandas\n",
        "data = {\n",
        "    \"Name\": [\"Alice\", \"Bob\", \"Charlie\", \"Diana\"],\n",
        "    \"GPA\": [3.9, 2.7, 3.4, 3.8],\n",
        "    \"Credits\": [90, 45, 60, 120],\n",
        "    \"Graduating\": [False, False, False, True]\n",
        "}\n",
        "\n",
        "students = pd.DataFrame(data)\n",
        "print(\"Student DataFrame:\")\n",
        "print(students)"
      ]
    },
    {
      "cell_type": "markdown",
      "metadata": {
        "id": "uxSJgjz9oCMt"
      },
      "source": [
        "## 🎯 Column Access + Row Access"
      ]
    },
    {
      "cell_type": "code",
      "execution_count": 5,
      "metadata": {
        "id": "sF1W6ZUnoCMt",
        "outputId": "ce0a07cf-4d3f-45e7-f7ed-665bd9ac0b9a",
        "colab": {
          "base_uri": "https://localhost:8080/"
        }
      },
      "outputs": [
        {
          "output_type": "stream",
          "name": "stdout",
          "text": [
            "\n",
            "GPA column:\n",
            "0    3.9\n",
            "1    2.7\n",
            "2    3.4\n",
            "3    3.8\n",
            "Name: GPA, dtype: float64\n",
            "\n",
            "Charlie's record:\n",
            "Name          Charlie\n",
            "GPA               3.4\n",
            "Credits            60\n",
            "Graduating      False\n",
            "Name: 2, dtype: object\n"
          ]
        }
      ],
      "source": [
        "# Access a column\n",
        "print(\"\\nGPA column:\")\n",
        "print(students[\"GPA\"])\n",
        "\n",
        "# Access a row\n",
        "print(\"\\nCharlie's record:\")\n",
        "print(students.loc[2])"
      ]
    },
    {
      "cell_type": "markdown",
      "metadata": {
        "id": "qPko5djxoCMu"
      },
      "source": [
        "## 🧪 Inspect the DataFrame"
      ]
    },
    {
      "cell_type": "code",
      "execution_count": 6,
      "metadata": {
        "id": "CVIjux4moCMu",
        "outputId": "efb50068-0f0d-4370-db28-931b1b59d42e",
        "colab": {
          "base_uri": "https://localhost:8080/"
        }
      },
      "outputs": [
        {
          "output_type": "stream",
          "name": "stdout",
          "text": [
            "\n",
            "Shape: (4, 4)\n",
            "\n",
            "Columns: ['Name', 'GPA', 'Credits', 'Graduating']\n",
            "\n",
            "DataFrame Info:\n",
            "<class 'pandas.core.frame.DataFrame'>\n",
            "RangeIndex: 4 entries, 0 to 3\n",
            "Data columns (total 4 columns):\n",
            " #   Column      Non-Null Count  Dtype  \n",
            "---  ------      --------------  -----  \n",
            " 0   Name        4 non-null      object \n",
            " 1   GPA         4 non-null      float64\n",
            " 2   Credits     4 non-null      int64  \n",
            " 3   Graduating  4 non-null      bool   \n",
            "dtypes: bool(1), float64(1), int64(1), object(1)\n",
            "memory usage: 232.0+ bytes\n",
            "None\n",
            "\n",
            "DataFrame Summary Stats:\n",
            "            GPA     Credits\n",
            "count  4.000000    4.000000\n",
            "mean   3.450000   78.750000\n",
            "std    0.544671   33.260337\n",
            "min    2.700000   45.000000\n",
            "25%    3.225000   56.250000\n",
            "50%    3.600000   75.000000\n",
            "75%    3.825000   97.500000\n",
            "max    3.900000  120.000000\n"
          ]
        }
      ],
      "source": [
        "# Shape and structure\n",
        "print(\"\\nShape:\", students.shape)\n",
        "print(\"\\nColumns:\", students.columns.tolist())\n",
        "\n",
        "# Info dump\n",
        "print(\"\\nDataFrame Info:\")\n",
        "print(students.info())\n",
        "\n",
        "# Stats summary\n",
        "print(\"\\nDataFrame Summary Stats:\")\n",
        "print(students.describe())"
      ]
    },
    {
      "cell_type": "markdown",
      "metadata": {
        "id": "tFO_M109oCMu"
      },
      "source": [
        "## 🧼 Rename a Column"
      ]
    },
    {
      "cell_type": "code",
      "execution_count": 7,
      "metadata": {
        "id": "DidS86XeoCMu",
        "outputId": "58e77555-8846-4349-ab41-57c0127d7a36",
        "colab": {
          "base_uri": "https://localhost:8080/"
        }
      },
      "outputs": [
        {
          "output_type": "stream",
          "name": "stdout",
          "text": [
            "\n",
            "Renamed column:\n",
            "      Name  GPA  Credits  Is_Graduating\n",
            "0    Alice  3.9       90          False\n",
            "1      Bob  2.7       45          False\n",
            "2  Charlie  3.4       60          False\n",
            "3    Diana  3.8      120           True\n"
          ]
        }
      ],
      "source": [
        "students.rename(columns={\"Graduating\": \"Is_Graduating\"}, inplace=True)\n",
        "print(\"\\nRenamed column:\")\n",
        "print(students.head())"
      ]
    },
    {
      "cell_type": "markdown",
      "metadata": {
        "id": "D2GGf3ndoCMu"
      },
      "source": [
        "---\n",
        "## 🔍 Your Turn\n",
        "\n",
        "1. Create a `Series` from a dictionary of state abbreviations to population (use fake or real data).\n",
        "2. Create a `DataFrame` for 5 students with columns: `Name`, `GPA`, `Credits`, `Graduating` (True/False).\n",
        "3. Try accessing a row using `.loc[]` and a column using bracket notation.\n",
        "4. Print the `.shape`, `.columns`, and `.info()` of your DataFrame.\n",
        "\n",
        "🎯 Bonus: Rename a column just to mess with the future grader."
      ]
    },
    {
      "cell_type": "code",
      "execution_count": 8,
      "metadata": {
        "id": "-_B__x2ooCMu",
        "outputId": "521a8001-09c5-46d8-b6d6-fb0486b635f8",
        "colab": {
          "base_uri": "https://localhost:8080/"
        }
      },
      "outputs": [
        {
          "output_type": "stream",
          "name": "stdout",
          "text": [
            "Arkansas       3000000\n",
            "California    39000000\n",
            "New York      19000000\n",
            "dtype: int64\n"
          ]
        }
      ],
      "source": [
        "# Your data science destiny begins here.\n",
        "statePop = {\n",
        "    \"Arkansas\": 3_000_000,\n",
        "    \"California\": 39_000_000,\n",
        "    \"New York\": 19_000_000,\n",
        "}\n",
        "stateSeries = pd.Series(statePop)\n",
        "print(stateSeries)"
      ]
    },
    {
      "cell_type": "code",
      "source": [
        "student = {\n",
        "    \"Name\": [\"Alice\", \"Bob\", \"Charlie\", \"Diana\", \"Eve\"],\n",
        "    \"GPA\": [3.9, 2.7, 3.4, 3.8, 4.0],\n",
        "    \"Credits\": [90, 45, 60, 120, 180],\n",
        "    \"Graduating\": [False, False, False, True, True]\n",
        "}\n",
        "studentDF = pd.DataFrame(student)\n",
        "print(studentDF)"
      ],
      "metadata": {
        "id": "ilgnxYuxqNnt",
        "outputId": "371d20ce-a9b9-4be1-cb68-a8bcc5b2a4b3",
        "colab": {
          "base_uri": "https://localhost:8080/"
        }
      },
      "execution_count": 9,
      "outputs": [
        {
          "output_type": "stream",
          "name": "stdout",
          "text": [
            "      Name  GPA  Credits  Graduating\n",
            "0    Alice  3.9       90       False\n",
            "1      Bob  2.7       45       False\n",
            "2  Charlie  3.4       60       False\n",
            "3    Diana  3.8      120        True\n",
            "4      Eve  4.0      180        True\n"
          ]
        }
      ]
    },
    {
      "cell_type": "code",
      "source": [
        "print(studentDF.loc[4])"
      ],
      "metadata": {
        "id": "GcX_-XRIqk0d",
        "outputId": "86882b7c-405d-45a3-8560-6dcda5be523f",
        "colab": {
          "base_uri": "https://localhost:8080/"
        }
      },
      "execution_count": 13,
      "outputs": [
        {
          "output_type": "stream",
          "name": "stdout",
          "text": [
            "Name           Eve\n",
            "GPA            4.0\n",
            "Credits        180\n",
            "Graduating    True\n",
            "Name: 4, dtype: object\n",
            "0    3.9\n",
            "1    2.7\n",
            "2    3.4\n",
            "3    3.8\n",
            "4    4.0\n",
            "Name: GPA, dtype: float64\n"
          ]
        }
      ]
    },
    {
      "cell_type": "code",
      "source": [
        "print(studentDF[\"GPA\"])"
      ],
      "metadata": {
        "id": "epH8WDIVq-WJ",
        "outputId": "83834816-d7dd-40d3-a863-b2e205c67fa9",
        "colab": {
          "base_uri": "https://localhost:8080/"
        }
      },
      "execution_count": 14,
      "outputs": [
        {
          "output_type": "stream",
          "name": "stdout",
          "text": [
            "0    3.9\n",
            "1    2.7\n",
            "2    3.4\n",
            "3    3.8\n",
            "4    4.0\n",
            "Name: GPA, dtype: float64\n"
          ]
        }
      ]
    },
    {
      "cell_type": "code",
      "source": [
        "print(studentDF.shape)"
      ],
      "metadata": {
        "id": "Xy8tKAJCrC61",
        "outputId": "d57cf2c2-36d8-4f4a-b206-68a792dcb5c4",
        "colab": {
          "base_uri": "https://localhost:8080/"
        }
      },
      "execution_count": 16,
      "outputs": [
        {
          "output_type": "stream",
          "name": "stdout",
          "text": [
            "(5, 4)\n"
          ]
        }
      ]
    },
    {
      "cell_type": "code",
      "source": [
        "print(studentDF.columns)"
      ],
      "metadata": {
        "id": "c4becVaarLST",
        "outputId": "b2261149-8976-4033-9e45-17d099911d75",
        "colab": {
          "base_uri": "https://localhost:8080/"
        }
      },
      "execution_count": 17,
      "outputs": [
        {
          "output_type": "stream",
          "name": "stdout",
          "text": [
            "Index(['Name', 'GPA', 'Credits', 'Graduating'], dtype='object')\n"
          ]
        }
      ]
    },
    {
      "cell_type": "code",
      "source": [
        "print(studentDF.info())"
      ],
      "metadata": {
        "id": "mz9vrTEVrOHS",
        "outputId": "1b1b907a-41ce-4003-ba27-768457bb4f3a",
        "colab": {
          "base_uri": "https://localhost:8080/"
        }
      },
      "execution_count": 18,
      "outputs": [
        {
          "output_type": "stream",
          "name": "stdout",
          "text": [
            "<class 'pandas.core.frame.DataFrame'>\n",
            "RangeIndex: 5 entries, 0 to 4\n",
            "Data columns (total 4 columns):\n",
            " #   Column      Non-Null Count  Dtype  \n",
            "---  ------      --------------  -----  \n",
            " 0   Name        5 non-null      object \n",
            " 1   GPA         5 non-null      float64\n",
            " 2   Credits     5 non-null      int64  \n",
            " 3   Graduating  5 non-null      bool   \n",
            "dtypes: bool(1), float64(1), int64(1), object(1)\n",
            "memory usage: 257.0+ bytes\n",
            "None\n"
          ]
        }
      ]
    },
    {
      "cell_type": "markdown",
      "metadata": {
        "id": "hTFJUpedoCMv"
      },
      "source": [
        "---\n",
        "## 📎 Side Notes\n",
        "- A `Series` is like a single column of a spreadsheet.\n",
        "- A `DataFrame` is like the full spreadsheet.\n",
        "- Rows and columns can both have labels (called the **index** and **columns**).\n",
        "\n",
        "Next stop: loading data from the real world. Brace yourself for CSVs."
      ]
    }
  ],
  "metadata": {
    "kernelspec": {
      "display_name": "Python 3",
      "language": "python",
      "name": "python3"
    },
    "language_info": {
      "name": "python",
      "version": ""
    },
    "colab": {
      "provenance": [],
      "include_colab_link": true
    }
  },
  "nbformat": 4,
  "nbformat_minor": 0
}