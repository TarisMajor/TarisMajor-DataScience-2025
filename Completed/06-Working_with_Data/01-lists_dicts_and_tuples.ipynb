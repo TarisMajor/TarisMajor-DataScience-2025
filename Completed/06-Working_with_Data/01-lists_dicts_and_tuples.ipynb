{
  "cells": [
    {
      "cell_type": "markdown",
      "metadata": {
        "id": "view-in-github",
        "colab_type": "text"
      },
      "source": [
        "<a href=\"https://colab.research.google.com/github/TarisMajor/TarisMajor-DataScience-2025/blob/main/Completed/06-Working_with_Data/01-lists_dicts_and_tuples.ipynb\" target=\"_parent\"><img src=\"https://colab.research.google.com/assets/colab-badge.svg\" alt=\"Open In Colab\"/></a>"
      ]
    },
    {
      "cell_type": "markdown",
      "metadata": {
        "id": "_fLbvcgMkF4O"
      },
      "source": [
        "# 🧠 Notebook 01: Lists, Dicts, Tuples, and Sets (Oh My!)\n",
        "\n",
        "Welcome, data tamer. Before we dance with DataFrames and juggle Series, we must revisit the sacred scrolls of Python's core data structures.\n",
        "\n",
        "In this notebook, you will:\n",
        "- Recap the mighty `list`, `dict`, `tuple`, and `set`\n",
        "- Learn what makes each special (besides being annoying to explain at parties)\n",
        "- Practice slicing, accessing, and modifying them\n",
        "- Build up intuition for working with structured data\n",
        "\n",
        "---"
      ]
    },
    {
      "cell_type": "markdown",
      "metadata": {
        "id": "hewM1akdkF4P"
      },
      "source": [
        "## 🧺 Lists\n",
        "`list`: Ordered, mutable, and basically the cargo pants of Python."
      ]
    },
    {
      "cell_type": "code",
      "execution_count": 1,
      "metadata": {
        "id": "t5301WnSkF4Q",
        "outputId": "92a97b8e-86d4-4533-e320-bf0e8b511ace",
        "colab": {
          "base_uri": "https://localhost:8080/"
        }
      },
      "outputs": [
        {
          "output_type": "stream",
          "name": "stdout",
          "text": [
            "First fruit: apple\n",
            "Last fruit: dragonfruit\n",
            "Updated list: ['apple', 'banana', 'cherry', 'dragonfruit', 'elderberry']\n"
          ]
        }
      ],
      "source": [
        "fruits = [\"apple\", \"banana\", \"cherry\", \"dragonfruit\"]\n",
        "print(\"First fruit:\", fruits[0])\n",
        "print(\"Last fruit:\", fruits[-1])\n",
        "\n",
        "fruits.append(\"elderberry\")\n",
        "print(\"Updated list:\", fruits)"
      ]
    },
    {
      "cell_type": "markdown",
      "metadata": {
        "id": "zdVDHAPEkF4R"
      },
      "source": [
        "## 🔐 Tuples\n",
        "`tuple`: Like lists, but committed — they don’t change. Perfect for fixed data."
      ]
    },
    {
      "cell_type": "code",
      "execution_count": 4,
      "metadata": {
        "id": "HamfrnQZkF4R",
        "outputId": "d80d0e87-6e41-437a-8afd-618a1e7e2346",
        "colab": {
          "base_uri": "https://localhost:8080/"
        }
      },
      "outputs": [
        {
          "output_type": "stream",
          "name": "stdout",
          "text": [
            "Coordinates: (34.05, -118.25)\n"
          ]
        }
      ],
      "source": [
        "coordinates = (34.05, -118.25)  # Latitude, Longitude\n",
        "print(\"Coordinates:\", coordinates)\n",
        "\n",
        "# Uncomment this to see Python throw a tantrum\n",
        "# coordinates[0] = 0"
      ]
    },
    {
      "cell_type": "markdown",
      "metadata": {
        "id": "_0fYYZAckF4S"
      },
      "source": [
        "## 📦 Dictionaries\n",
        "`dict`: Key-value pairs. Like JSON, but with fewer quotation marks and more sarcasm."
      ]
    },
    {
      "cell_type": "code",
      "execution_count": 5,
      "metadata": {
        "id": "REqbwqmAkF4S",
        "outputId": "0988aa84-2d96-4b96-f329-f462e64053ec",
        "colab": {
          "base_uri": "https://localhost:8080/"
        }
      },
      "outputs": [
        {
          "output_type": "stream",
          "name": "stdout",
          "text": [
            "Student name: Alice\n",
            "GPA using .get(): 3.9\n",
            "Updated dictionary: {'name': 'Alice', 'GPA': 3.9, 'major': 'Data Science', 'minor': 'Philosophy'}\n"
          ]
        }
      ],
      "source": [
        "student = {\n",
        "    \"name\": \"Alice\",\n",
        "    \"GPA\": 3.9,\n",
        "    \"major\": \"Data Science\"\n",
        "}\n",
        "\n",
        "print(\"Student name:\", student[\"name\"])\n",
        "print(\"GPA using .get():\", student.get(\"GPA\"))\n",
        "\n",
        "student[\"minor\"] = \"Philosophy\"\n",
        "print(\"Updated dictionary:\", student)"
      ]
    },
    {
      "cell_type": "markdown",
      "metadata": {
        "id": "LDCcXsW4kF4S"
      },
      "source": [
        "## 🎯 Sets\n",
        "`set`: Unordered, unique values only. Great for removing duplicates or doing cool mathy stuff."
      ]
    },
    {
      "cell_type": "code",
      "execution_count": 6,
      "metadata": {
        "id": "3wpzIXAskF4S",
        "outputId": "9be59e30-739e-4459-d260-29d0baa2057a",
        "colab": {
          "base_uri": "https://localhost:8080/"
        }
      },
      "outputs": [
        {
          "output_type": "stream",
          "name": "stdout",
          "text": [
            "Courses: {'CS101', 'CS102', 'CS103'}\n",
            "Is CS102 in the set? True\n",
            "Modified courses: {'CS104', 'CS102', 'CS103'}\n"
          ]
        }
      ],
      "source": [
        "courses = {\"CS101\", \"CS102\", \"CS103\", \"CS101\"}  # Duplicate ignored\n",
        "print(\"Courses:\", courses)\n",
        "\n",
        "print(\"Is CS102 in the set?\", \"CS102\" in courses)\n",
        "\n",
        "courses.add(\"CS104\")\n",
        "courses.discard(\"CS101\")\n",
        "print(\"Modified courses:\", courses)"
      ]
    },
    {
      "cell_type": "markdown",
      "metadata": {
        "id": "vdK2X6TWkF4S"
      },
      "source": [
        "---\n",
        "## 🧰 Your Turn\n",
        "\n",
        "1. Create a list of your top 5 favorite foods. Print the last item using a negative index.\n",
        "2. Create a dictionary that maps student names to GPA (be kind). Add a new student.\n",
        "3. Make a tuple of the days of the week. Try to change one. Document what happens.\n",
        "4. Create a `set` of course names. Add a duplicate. Reflect on how sets feel about duplicates.\n",
        "\n",
        "🎯 **Bonus**: Use a list comprehension to build a list of all squares from 1–20."
      ]
    },
    {
      "cell_type": "code",
      "execution_count": 7,
      "metadata": {
        "id": "VIEqGioZkF4T",
        "outputId": "0bc20d83-8bbe-4226-c0ba-891cac23063c",
        "colab": {
          "base_uri": "https://localhost:8080/"
        }
      },
      "outputs": [
        {
          "output_type": "stream",
          "name": "stdout",
          "text": [
            "strawberries\n"
          ]
        }
      ],
      "source": [
        "# Your brilliant code goes here!\n",
        "foods = [\"ribs\", \"dumplings\", \"tamarinds\", 'grapefruits',\"strawberries\"]\n",
        "print(foods[-1])"
      ]
    },
    {
      "cell_type": "code",
      "source": [
        "studentGPA = {\"Theo\": \"3.75\", \"Samuel\": \"3.9\"}\n",
        "print(studentGPA)\n",
        "studentGPA[\"Taris\"] = \"4.0\"\n",
        "print(studentGPA)"
      ],
      "metadata": {
        "id": "vmL4C_lalyoS",
        "outputId": "56ebbd86-1ff3-41b4-e2fe-0c1870e4b7f3",
        "colab": {
          "base_uri": "https://localhost:8080/"
        }
      },
      "execution_count": 10,
      "outputs": [
        {
          "output_type": "stream",
          "name": "stdout",
          "text": [
            "{'Theo': '3.75', 'Samuel': '3.9'}\n",
            "{'Theo': '3.75', 'Samuel': '3.9', 'Taris': '4.0'}\n"
          ]
        }
      ]
    },
    {
      "cell_type": "code",
      "source": [
        "Days = (\"Monday\", \"Tuesday\", \"Wednesday\", \"Thursday\", \"Friday\", \"Saturday\", \"Sunday\")\n",
        "print(Days)\n",
        "# Days[2] = \"Changed\"\n",
        "# print(Days)\n",
        "# When you try to change an item, it throws an error that you can't assign new values"
      ],
      "metadata": {
        "id": "axHhwsWJmlVj",
        "outputId": "ea6dd886-d392-4b1a-8cb0-23b31f313dd8",
        "colab": {
          "base_uri": "https://localhost:8080/"
        }
      },
      "execution_count": 13,
      "outputs": [
        {
          "output_type": "stream",
          "name": "stdout",
          "text": [
            "('Monday', 'Tuesday', 'Wednesday', 'Thursday', 'Friday', 'Saturday', 'Sunday')\n"
          ]
        }
      ]
    },
    {
      "cell_type": "code",
      "source": [
        "classes = {\"CompSci\", \"Math\", \"English\", \"CompSci\"}\n",
        "print(classes)\n",
        "# Sets remove duplicates if there are any"
      ],
      "metadata": {
        "id": "e7xAzG1FnSJw",
        "outputId": "cee9fa14-a839-4214-b07a-4fbedbc4df3a",
        "colab": {
          "base_uri": "https://localhost:8080/"
        }
      },
      "execution_count": 14,
      "outputs": [
        {
          "output_type": "stream",
          "name": "stdout",
          "text": [
            "{'English', 'Math', 'CompSci'}\n"
          ]
        }
      ]
    },
    {
      "cell_type": "markdown",
      "metadata": {
        "id": "vv-YZAzhkF4T"
      },
      "source": [
        "---\n",
        "## 🧼 Why This Matters\n",
        "\n",
        "Before we start feeding `.csv` files into Pandas like a malfunctioning vending machine, we need to truly *feel* how data is structured. These built-in types help shape, store, and manipulate everything we’ll touch from here on.\n",
        "\n",
        "Next up? Pandas `Series` and `DataFrames`. Buckle up."
      ]
    }
  ],
  "metadata": {
    "kernelspec": {
      "display_name": "Python 3",
      "language": "python",
      "name": "python3"
    },
    "language_info": {
      "name": "python",
      "version": ""
    },
    "colab": {
      "provenance": [],
      "include_colab_link": true
    }
  },
  "nbformat": 4,
  "nbformat_minor": 0
}