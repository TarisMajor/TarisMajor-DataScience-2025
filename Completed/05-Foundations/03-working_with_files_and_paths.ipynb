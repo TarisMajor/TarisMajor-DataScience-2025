{
  "cells": [
    {
      "cell_type": "markdown",
      "metadata": {
        "id": "view-in-github",
        "colab_type": "text"
      },
      "source": [
        "<a href=\"https://colab.research.google.com/github/TarisMajor/TarisMajor-DataScience-2025/blob/main/Completed/05-Foundations/03-working_with_files_and_paths.ipynb\" target=\"_parent\"><img src=\"https://colab.research.google.com/assets/colab-badge.svg\" alt=\"Open In Colab\"/></a>"
      ]
    },
    {
      "cell_type": "markdown",
      "metadata": {
        "id": "ogNFzjUKlCJF"
      },
      "source": [
        "# 📂 03 - Working with Files and Paths\n",
        "\n",
        "Data science means working with files all the time: datasets, config files, logs.  \n",
        "This notebook introduces:\n",
        "- Checking your current path in Jupyter\n",
        "- Navigating directories\n",
        "- Reading and writing text files\n",
        "- Using `with` for safe file handling\n",
        "- Basics of JSON and CSV I/O\n"
      ],
      "id": "ogNFzjUKlCJF"
    },
    {
      "cell_type": "markdown",
      "metadata": {
        "id": "kpNrpkk3lCJL"
      },
      "source": [
        "## 1. Where Am I?"
      ],
      "id": "kpNrpkk3lCJL"
    },
    {
      "cell_type": "code",
      "execution_count": 1,
      "metadata": {
        "id": "qUnUiOY1lCJM",
        "outputId": "2237227e-77cf-42d7-85a7-cc45b68b74fb",
        "colab": {
          "base_uri": "https://localhost:8080/",
          "height": 35
        }
      },
      "outputs": [
        {
          "output_type": "execute_result",
          "data": {
            "text/plain": [
              "'/content'"
            ],
            "application/vnd.google.colaboratory.intrinsic+json": {
              "type": "string"
            }
          },
          "metadata": {},
          "execution_count": 1
        }
      ],
      "source": [
        "%pwd  # Print current working directory"
      ],
      "id": "qUnUiOY1lCJM"
    },
    {
      "cell_type": "code",
      "execution_count": 2,
      "metadata": {
        "id": "iUmq1EjZlCJO",
        "outputId": "8736b0ae-b85e-4a1c-e866-e4266e0cf4ba",
        "colab": {
          "base_uri": "https://localhost:8080/"
        }
      },
      "outputs": [
        {
          "output_type": "stream",
          "name": "stdout",
          "text": [
            "\u001b[0m\u001b[01;34msample_data\u001b[0m/\n"
          ]
        }
      ],
      "source": [
        "%ls  # List files in the current directory"
      ],
      "id": "iUmq1EjZlCJO"
    },
    {
      "cell_type": "code",
      "execution_count": 6,
      "metadata": {
        "id": "qLh-hBGDlCJO",
        "outputId": "d9861b39-81dd-486d-9d92-e67a37f5dab7",
        "colab": {
          "base_uri": "https://localhost:8080/",
          "height": 53
        }
      },
      "outputs": [
        {
          "output_type": "stream",
          "name": "stdout",
          "text": [
            "/\n"
          ]
        },
        {
          "output_type": "execute_result",
          "data": {
            "text/plain": [
              "'/'"
            ],
            "application/vnd.google.colaboratory.intrinsic+json": {
              "type": "string"
            }
          },
          "metadata": {},
          "execution_count": 6
        }
      ],
      "source": [
        "# Change to parent directory\n",
        "%cd ..\n",
        "%pwd"
      ],
      "id": "qLh-hBGDlCJO"
    },
    {
      "cell_type": "markdown",
      "metadata": {
        "id": "z6jvJs4_lCJP"
      },
      "source": [
        "✅ **Your Turn**: Navigate into a subfolder of your repo (e.g., `Foundations/`) and list its contents."
      ],
      "id": "z6jvJs4_lCJP"
    },
    {
      "cell_type": "markdown",
      "metadata": {
        "id": "lE7Kl5_clCJP"
      },
      "source": [
        "## 2. Writing and Reading Text Files"
      ],
      "id": "lE7Kl5_clCJP"
    },
    {
      "cell_type": "code",
      "execution_count": 7,
      "metadata": {
        "id": "WEmWjkA_lCJQ"
      },
      "outputs": [],
      "source": [
        "# Writing to a text file\n",
        "with open(\"example.txt\", \"w\") as f:\n",
        "    f.write(\"Hello, Jupyter!\\n\")\n",
        "    f.write(\"This is a text file.\\n\")"
      ],
      "id": "WEmWjkA_lCJQ"
    },
    {
      "cell_type": "code",
      "execution_count": 8,
      "metadata": {
        "id": "RDpt1aX4lCJR",
        "outputId": "3f51a483-c58f-491b-a55f-3a97422d28c4",
        "colab": {
          "base_uri": "https://localhost:8080/",
          "height": 35
        }
      },
      "outputs": [
        {
          "output_type": "execute_result",
          "data": {
            "text/plain": [
              "'Hello, Jupyter!\\nThis is a text file.\\n'"
            ],
            "application/vnd.google.colaboratory.intrinsic+json": {
              "type": "string"
            }
          },
          "metadata": {},
          "execution_count": 8
        }
      ],
      "source": [
        "# Reading from a text file\n",
        "with open(\"example.txt\", \"r\") as f:\n",
        "    contents = f.read()\n",
        "contents"
      ],
      "id": "RDpt1aX4lCJR"
    },
    {
      "cell_type": "markdown",
      "metadata": {
        "id": "yfO58qS0lCJR"
      },
      "source": [
        "✅ **Your Turn**: Write your name into a file called `me.txt`, then read it back and print the result."
      ],
      "id": "yfO58qS0lCJR"
    },
    {
      "cell_type": "code",
      "source": [
        "with open(\"me.txt\", \"w\") as f:\n",
        "    f.write(\"Taris Major\")"
      ],
      "metadata": {
        "id": "A5cdzzdClvp_"
      },
      "id": "A5cdzzdClvp_",
      "execution_count": 10,
      "outputs": []
    },
    {
      "cell_type": "code",
      "source": [
        "with open(\"me.txt\", \"r\") as f:\n",
        "    contents = f.read()\n",
        "contents"
      ],
      "metadata": {
        "id": "ZlKJut1xmCh2",
        "outputId": "b385f5b1-ac34-45e1-8e12-29ffb1fd7828",
        "colab": {
          "base_uri": "https://localhost:8080/",
          "height": 35
        }
      },
      "id": "ZlKJut1xmCh2",
      "execution_count": 11,
      "outputs": [
        {
          "output_type": "execute_result",
          "data": {
            "text/plain": [
              "'Taris Major'"
            ],
            "application/vnd.google.colaboratory.intrinsic+json": {
              "type": "string"
            }
          },
          "metadata": {},
          "execution_count": 11
        }
      ]
    },
    {
      "cell_type": "markdown",
      "metadata": {
        "id": "gl66T_galCJS"
      },
      "source": [
        "## 3. JSON Files"
      ],
      "id": "gl66T_galCJS"
    },
    {
      "cell_type": "code",
      "execution_count": 12,
      "metadata": {
        "id": "dJwAugYRlCJS",
        "outputId": "4c625a7a-d16f-4569-df5e-3bb1bd9b50ed",
        "colab": {
          "base_uri": "https://localhost:8080/"
        }
      },
      "outputs": [
        {
          "output_type": "execute_result",
          "data": {
            "text/plain": [
              "{'name': 'Graylian', 'type': 'mascot', 'skills': ['howl', 'parrot talk']}"
            ]
          },
          "metadata": {},
          "execution_count": 12
        }
      ],
      "source": [
        "import json\n",
        "\n",
        "data = {\"name\": \"Graylian\", \"type\": \"mascot\", \"skills\": [\"howl\", \"parrot talk\"]}\n",
        "\n",
        "# Write JSON\n",
        "with open(\"data.json\", \"w\") as f:\n",
        "    json.dump(data, f)\n",
        "\n",
        "# Read JSON\n",
        "with open(\"data.json\", \"r\") as f:\n",
        "    loaded = json.load(f)\n",
        "loaded"
      ],
      "id": "dJwAugYRlCJS"
    },
    {
      "cell_type": "markdown",
      "metadata": {
        "id": "m6lYsPJnlCJS"
      },
      "source": [
        "✅ **Your Turn**: Create a dictionary with your name and 2-3 favorite courses. Save it to `courses.json`, then read it back."
      ],
      "id": "m6lYsPJnlCJS"
    },
    {
      "cell_type": "code",
      "source": [
        "fav_courses = {\"Class1\": \"Data Science\", \"Class2\": \"Algoritm\", \"Class3\": \"Machine Learning\"}\n",
        "\n",
        "with open(\"courses.json\", \"w\") as f:\n",
        "    json.dump(fav_courses, f)\n",
        "\n",
        "with open(\"courses.json\", \"r\") as f:\n",
        "    course = json.load(f)\n",
        "course"
      ],
      "metadata": {
        "id": "98KvAaQUmOZ1",
        "outputId": "0027fb15-7136-4fae-a9e2-9a80535315df",
        "colab": {
          "base_uri": "https://localhost:8080/"
        }
      },
      "id": "98KvAaQUmOZ1",
      "execution_count": 15,
      "outputs": [
        {
          "output_type": "execute_result",
          "data": {
            "text/plain": [
              "{'Class1': 'Data Science', 'Class2': 'Algoritm', 'Class3': 'Machine Learning'}"
            ]
          },
          "metadata": {},
          "execution_count": 15
        }
      ]
    },
    {
      "cell_type": "markdown",
      "metadata": {
        "id": "TMVZlHSYlCJS"
      },
      "source": [
        "## 4. CSV Files"
      ],
      "id": "TMVZlHSYlCJS"
    },
    {
      "cell_type": "code",
      "execution_count": 16,
      "metadata": {
        "id": "ZnCkKWlWlCJT",
        "outputId": "a0d9a970-cc69-4a1a-a4f3-9dd12c964633",
        "colab": {
          "base_uri": "https://localhost:8080/"
        }
      },
      "outputs": [
        {
          "output_type": "stream",
          "name": "stdout",
          "text": [
            "['Name', 'Score']\n",
            "['Alice', '90']\n",
            "['Bob', '85']\n"
          ]
        }
      ],
      "source": [
        "import csv\n",
        "\n",
        "# Writing CSV\n",
        "rows = [[\"Name\", \"Score\"], [\"Alice\", 90], [\"Bob\", 85]]\n",
        "with open(\"scores.csv\", \"w\", newline=\"\") as f:\n",
        "    writer = csv.writer(f)\n",
        "    writer.writerows(rows)\n",
        "\n",
        "# Reading CSV\n",
        "with open(\"scores.csv\", \"r\") as f:\n",
        "    reader = csv.reader(f)\n",
        "    for row in reader:\n",
        "        print(row)"
      ],
      "id": "ZnCkKWlWlCJT"
    },
    {
      "cell_type": "markdown",
      "metadata": {
        "id": "T7_LqvkclCJT"
      },
      "source": [
        "✅ **Your Turn**: Create a CSV with 3 rows of your own data (e.g., pets, grades, or hobbies). Read it back and display the rows."
      ],
      "id": "T7_LqvkclCJT"
    },
    {
      "cell_type": "code",
      "source": [
        "stuff = [[\"Name\", \"Age\", \"Gender\"], [\"Candy\",\"11\",\"F\"],[\"Crystal\", \"14\", \"F\"],[\"Tritan\",\"5\",\"M\"]]\n",
        "with open(\"stuff.csv\", \"w\", newline=\"\") as f:\n",
        "    writer = csv.writer(f)\n",
        "    writer.writerows(stuff)\n",
        "\n",
        "with open(\"stuff.csv\", \"r\") as f:\n",
        "    reader = csv.reader(f)\n",
        "    for row in reader:\n",
        "        print(row)"
      ],
      "metadata": {
        "id": "IwivplcUofMH",
        "outputId": "727230f8-fd6b-495f-9413-1650359653bd",
        "colab": {
          "base_uri": "https://localhost:8080/"
        }
      },
      "id": "IwivplcUofMH",
      "execution_count": 18,
      "outputs": [
        {
          "output_type": "stream",
          "name": "stdout",
          "text": [
            "['Name', 'Age', 'Gender']\n",
            "['Candy', '11', 'F']\n",
            "['Crystal', '14', 'F']\n",
            "['Tritan', '5', 'M']\n"
          ]
        }
      ]
    },
    {
      "cell_type": "markdown",
      "metadata": {
        "id": "_KFwakhklCJT"
      },
      "source": [
        "---\n",
        "### Summary\n",
        "- `%pwd`, `%ls`, `%cd` show you where you are in the filesystem.\n",
        "- Use `with open(...)` to safely read/write files.\n",
        "- JSON is for structured data (key/value).\n",
        "- CSV is for tabular data (rows/columns).\n",
        "- Managing files is step 1 in any real data science project.\n"
      ],
      "id": "_KFwakhklCJT"
    }
  ],
  "metadata": {
    "kernelspec": {
      "display_name": "Python 3",
      "language": "python",
      "name": "python3"
    },
    "language_info": {
      "name": "python",
      "version": "3.x"
    },
    "colab": {
      "provenance": [],
      "include_colab_link": true
    }
  },
  "nbformat": 4,
  "nbformat_minor": 5
}