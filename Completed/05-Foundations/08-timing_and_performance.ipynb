{
  "cells": [
    {
      "cell_type": "markdown",
      "metadata": {
        "id": "view-in-github",
        "colab_type": "text"
      },
      "source": [
        "<a href=\"https://colab.research.google.com/github/TarisMajor/TarisMajor-DataScience-2025/blob/main/Completed/05-Foundations/08-timing_and_performance.ipynb\" target=\"_parent\"><img src=\"https://colab.research.google.com/assets/colab-badge.svg\" alt=\"Open In Colab\"/></a>"
      ]
    },
    {
      "cell_type": "markdown",
      "metadata": {
        "id": "ick6qHy4CpIt"
      },
      "source": [
        "# ⏱️ 08 - Timing and Performance\n",
        "\n",
        "In data science, performance matters. Some code runs fast, some slow.  \n",
        "Jupyter/IPython gives us tools to measure runtime easily.\n",
        "\n",
        "In this notebook you will learn:\n",
        "- `%time` and `%timeit` for single expressions\n",
        "- `%%time` and `%%timeit` for entire cells\n",
        "- Comparing loops, list comprehensions, and NumPy\n",
        "- Why performance awareness is important\n"
      ],
      "id": "ick6qHy4CpIt"
    },
    {
      "cell_type": "markdown",
      "metadata": {
        "id": "0cCr7SXBCpIx"
      },
      "source": [
        "## 1. `%time`"
      ],
      "id": "0cCr7SXBCpIx"
    },
    {
      "cell_type": "code",
      "execution_count": 2,
      "metadata": {
        "id": "gTbrPv_-CpIx",
        "outputId": "08d15242-e9f1-4310-83dc-bd67e141b3ce",
        "colab": {
          "base_uri": "https://localhost:8080/"
        }
      },
      "outputs": [
        {
          "output_type": "stream",
          "name": "stdout",
          "text": [
            "CPU times: user 45.3 ms, sys: 0 ns, total: 45.3 ms\n",
            "Wall time: 50.2 ms\n"
          ]
        },
        {
          "output_type": "execute_result",
          "data": {
            "text/plain": [
              "499999500000"
            ]
          },
          "metadata": {},
          "execution_count": 2
        }
      ],
      "source": [
        "%time sum(range(1_000_000))"
      ],
      "id": "gTbrPv_-CpIx"
    },
    {
      "cell_type": "markdown",
      "metadata": {
        "id": "oyTXEUXNCpIz"
      },
      "source": [
        "✅ **Your Turn**: Use `%time` to measure how long it takes to sort a list of 1 million random numbers."
      ],
      "id": "oyTXEUXNCpIz"
    },
    {
      "cell_type": "code",
      "source": [
        "%time sum(sorted(list(range(1_000_000))))"
      ],
      "metadata": {
        "id": "Stl4ZykBDJtX",
        "outputId": "d43f8419-60e2-4680-83ba-74d4a263e9bb",
        "colab": {
          "base_uri": "https://localhost:8080/"
        }
      },
      "id": "Stl4ZykBDJtX",
      "execution_count": 3,
      "outputs": [
        {
          "output_type": "stream",
          "name": "stdout",
          "text": [
            "CPU times: user 74.1 ms, sys: 42.5 ms, total: 117 ms\n",
            "Wall time: 127 ms\n"
          ]
        },
        {
          "output_type": "execute_result",
          "data": {
            "text/plain": [
              "499999500000"
            ]
          },
          "metadata": {},
          "execution_count": 3
        }
      ]
    },
    {
      "cell_type": "markdown",
      "metadata": {
        "id": "JOXVVKv6CpIz"
      },
      "source": [
        "## 2. `%timeit`"
      ],
      "id": "JOXVVKv6CpIz"
    },
    {
      "cell_type": "code",
      "execution_count": 4,
      "metadata": {
        "id": "_sdTH2BwCpI0",
        "outputId": "4b99a04b-2c4e-4980-e011-03ffd276c0a2",
        "colab": {
          "base_uri": "https://localhost:8080/"
        }
      },
      "outputs": [
        {
          "output_type": "stream",
          "name": "stdout",
          "text": [
            "77.5 µs ± 22.5 µs per loop (mean ± std. dev. of 7 runs, 10000 loops each)\n"
          ]
        }
      ],
      "source": [
        "numbers = list(range(1_000))\n",
        "%timeit [x**2 for x in numbers]"
      ],
      "id": "_sdTH2BwCpI0"
    },
    {
      "cell_type": "markdown",
      "metadata": {
        "id": "TdCJHdsRCpI0"
      },
      "source": [
        "✅ **Your Turn**: Compare `%timeit` results for a list comprehension vs. a `for` loop that builds the same list."
      ],
      "id": "TdCJHdsRCpI0"
    },
    {
      "cell_type": "code",
      "source": [
        "%%timeit\n",
        "nums = []\n",
        "for x in numbers:\n",
        "    nums.append(x**2)\n"
      ],
      "metadata": {
        "id": "v-ZjYdtzDiWi",
        "outputId": "e27071a9-a42a-4da7-d70e-654e08924f9d",
        "colab": {
          "base_uri": "https://localhost:8080/"
        }
      },
      "id": "v-ZjYdtzDiWi",
      "execution_count": 5,
      "outputs": [
        {
          "output_type": "stream",
          "name": "stdout",
          "text": [
            "66.6 µs ± 1.42 µs per loop (mean ± std. dev. of 7 runs, 10000 loops each)\n"
          ]
        }
      ]
    },
    {
      "cell_type": "markdown",
      "metadata": {
        "id": "OLEkqGF7CpI0"
      },
      "source": [
        "## 3. `%%time` for a Whole Cell"
      ],
      "id": "OLEkqGF7CpI0"
    },
    {
      "cell_type": "code",
      "execution_count": 6,
      "metadata": {
        "id": "aiUkdr2ICpI0",
        "outputId": "769d8d2b-b24b-4b50-8baf-ba9e81a70136",
        "colab": {
          "base_uri": "https://localhost:8080/"
        }
      },
      "outputs": [
        {
          "output_type": "stream",
          "name": "stdout",
          "text": [
            "66.8 ms ± 16.2 ms per loop (mean ± std. dev. of 7 runs, 10 loops each)\n"
          ]
        }
      ],
      "source": [
        "%%timeit\n",
        "total = 0\n",
        "for i in range(1_000_000):\n",
        "    total += i\n",
        "total"
      ],
      "id": "aiUkdr2ICpI0"
    },
    {
      "cell_type": "markdown",
      "metadata": {
        "id": "UprLoE4PCpI1"
      },
      "source": [
        "✅ **Your Turn**: Wrap a longer multi-line operation with `%%time` to measure its runtime."
      ],
      "id": "UprLoE4PCpI1"
    },
    {
      "cell_type": "code",
      "source": [
        "%%time\n",
        "total = 0\n",
        "for i in range(1_000_000):\n",
        "    total += i\n",
        "total"
      ],
      "metadata": {
        "id": "bzQa9fapEF6z",
        "outputId": "d31f4ca5-9643-43e0-a637-afef54ab7f10",
        "colab": {
          "base_uri": "https://localhost:8080/"
        }
      },
      "id": "bzQa9fapEF6z",
      "execution_count": 7,
      "outputs": [
        {
          "output_type": "stream",
          "name": "stdout",
          "text": [
            "CPU times: user 134 ms, sys: 4 µs, total: 134 ms\n",
            "Wall time: 134 ms\n"
          ]
        },
        {
          "output_type": "execute_result",
          "data": {
            "text/plain": [
              "499999500000"
            ]
          },
          "metadata": {},
          "execution_count": 7
        }
      ]
    },
    {
      "cell_type": "markdown",
      "metadata": {
        "id": "vRRQUah4CpI1"
      },
      "source": [
        "## 4. Comparing Loops vs. NumPy"
      ],
      "id": "vRRQUah4CpI1"
    },
    {
      "cell_type": "code",
      "execution_count": 8,
      "metadata": {
        "id": "bPnWgkzvCpI1",
        "outputId": "53546797-9fbe-45f5-8bd7-e7cb742c5817",
        "colab": {
          "base_uri": "https://localhost:8080/"
        }
      },
      "outputs": [
        {
          "output_type": "stream",
          "name": "stdout",
          "text": [
            "170 ms ± 44.7 ms per loop (mean ± std. dev. of 7 runs, 10 loops each)\n",
            "1.11 ms ± 141 µs per loop (mean ± std. dev. of 7 runs, 1000 loops each)\n"
          ]
        }
      ],
      "source": [
        "import numpy as np\n",
        "\n",
        "numbers = np.arange(1_000_000)\n",
        "\n",
        "# Python loop\n",
        "%timeit [x**2 for x in numbers]\n",
        "\n",
        "# NumPy vectorized\n",
        "%timeit numbers**2"
      ],
      "id": "bPnWgkzvCpI1"
    },
    {
      "cell_type": "markdown",
      "metadata": {
        "id": "Xr6WgzpDCpI1"
      },
      "source": [
        "✅ **Your Turn**: Try squaring numbers with a Python loop, list comprehension, and NumPy array. Compare times."
      ],
      "id": "Xr6WgzpDCpI1"
    },
    {
      "cell_type": "code",
      "source": [
        "%timeit [x**2 for x in numbers]\n",
        "%timeit numbers**2"
      ],
      "metadata": {
        "id": "GE8wBawKEiU3",
        "outputId": "c292411c-caff-45d6-cb2d-defb1bfd9234",
        "colab": {
          "base_uri": "https://localhost:8080/"
        }
      },
      "id": "GE8wBawKEiU3",
      "execution_count": 12,
      "outputs": [
        {
          "output_type": "stream",
          "name": "stdout",
          "text": [
            "172 ms ± 24.6 ms per loop (mean ± std. dev. of 7 runs, 10 loops each)\n",
            "1.19 ms ± 200 µs per loop (mean ± std. dev. of 7 runs, 1000 loops each)\n"
          ]
        }
      ]
    },
    {
      "cell_type": "code",
      "source": [
        "%%timeit\n",
        "for x in numbers:\n",
        "    x**2"
      ],
      "metadata": {
        "id": "pW7xLNJMTzJI",
        "outputId": "a3206a28-8aa4-4986-bc5c-9dca638ce3c0",
        "colab": {
          "base_uri": "https://localhost:8080/"
        }
      },
      "id": "pW7xLNJMTzJI",
      "execution_count": 11,
      "outputs": [
        {
          "output_type": "stream",
          "name": "stdout",
          "text": [
            "142 ms ± 33.2 ms per loop (mean ± std. dev. of 7 runs, 10 loops each)\n"
          ]
        }
      ]
    },
    {
      "cell_type": "markdown",
      "metadata": {
        "id": "C6_4deRzCpI2"
      },
      "source": [
        "## 5. Why This Matters\n",
        "- Performance differences become huge with large datasets.\n",
        "- Vectorized operations (like NumPy, Pandas) are usually faster.\n",
        "- `%timeit` is your friend when deciding how to implement something.\n"
      ],
      "id": "C6_4deRzCpI2"
    },
    {
      "cell_type": "markdown",
      "metadata": {
        "id": "PEcFSDKdCpI2"
      },
      "source": [
        "---\n",
        "### Summary\n",
        "- `%time` and `%timeit` measure execution speed.\n",
        "- `%%time` and `%%timeit` work on whole cells.\n",
        "- Loops are slower than list comprehensions, which are slower than NumPy.\n",
        "- Always measure performance before optimizing.\n"
      ],
      "id": "PEcFSDKdCpI2"
    }
  ],
  "metadata": {
    "kernelspec": {
      "display_name": ".venv",
      "language": "python",
      "name": "python3"
    },
    "language_info": {
      "name": "python",
      "version": "3.13.7"
    },
    "colab": {
      "provenance": [],
      "include_colab_link": true
    }
  },
  "nbformat": 4,
  "nbformat_minor": 5
}