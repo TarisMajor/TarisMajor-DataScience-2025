{
  "cells": [
    {
      "cell_type": "markdown",
      "metadata": {
        "id": "view-in-github",
        "colab_type": "text"
      },
      "source": [
        "<a href=\"https://colab.research.google.com/github/TarisMajor/TarisMajor-DataScience-2025/blob/main/Completed/05-Foundations/06-jupyter_shortcuts_and_productivity.ipynb\" target=\"_parent\"><img src=\"https://colab.research.google.com/assets/colab-badge.svg\" alt=\"Open In Colab\"/></a>"
      ]
    },
    {
      "cell_type": "markdown",
      "metadata": {
        "id": "t8og1NDD6_j_"
      },
      "source": [
        "# ⚡ 06 - Jupyter Shortcuts and Productivity\n",
        "\n",
        "Jupyter notebooks have **keyboard shortcuts and tricks** that make you faster.  \n",
        "In this notebook you will learn:\n",
        "- Command vs. Edit mode\n",
        "- Essential keyboard shortcuts\n",
        "- Saving and exporting notebooks\n",
        "- Using `%history` and `%save`\n"
      ],
      "id": "t8og1NDD6_j_"
    },
    {
      "cell_type": "markdown",
      "metadata": {
        "id": "e6F7L-996_kB"
      },
      "source": [
        "## 1. Modes in Jupyter"
      ],
      "id": "e6F7L-996_kB"
    },
    {
      "cell_type": "markdown",
      "metadata": {
        "id": "TUSEOU5c6_kC"
      },
      "source": [
        "- **Edit mode** (green border, type in cell)\n",
        "- **Command mode** (blue border, issue commands on the notebook)\n",
        "\n",
        "Switch:\n",
        "- Press `Enter` → Edit mode\n",
        "- Press `Esc` → Command mode"
      ],
      "id": "TUSEOU5c6_kC"
    },
    {
      "cell_type": "markdown",
      "metadata": {
        "id": "CME6GO6h6_kC"
      },
      "source": [
        "✅ **Your Turn**: Try switching between Edit and Command mode and notice the border color."
      ],
      "id": "CME6GO6h6_kC"
    },
    {
      "cell_type": "markdown",
      "metadata": {
        "id": "JeQfEq386_kC"
      },
      "source": [
        "## 2. Common Shortcuts"
      ],
      "id": "JeQfEq386_kC"
    },
    {
      "cell_type": "markdown",
      "metadata": {
        "id": "atmv4gcR6_kC"
      },
      "source": [
        "- `A` → Insert cell Above\n",
        "- `B` → Insert cell Below\n",
        "- `D D` → Delete a cell\n",
        "- `M` → Change to Markdown cell\n",
        "- `Y` → Change to Code cell\n",
        "- `Shift + Enter` → Run cell and move to next\n",
        "- `Ctrl + Enter` → Run cell, stay put\n",
        "- `Alt + Enter` → Run cell and insert new one below"
      ],
      "id": "atmv4gcR6_kC"
    },
    {
      "cell_type": "markdown",
      "metadata": {
        "id": "9vTic7hl6_kD"
      },
      "source": [
        "✅ **Your Turn**: Practice creating, deleting, and changing cell types using only shortcuts."
      ],
      "id": "9vTic7hl6_kD"
    },
    {
      "cell_type": "code",
      "source": [],
      "metadata": {
        "id": "U1FuniD0-wQ8"
      },
      "id": "U1FuniD0-wQ8",
      "execution_count": null,
      "outputs": []
    },
    {
      "cell_type": "markdown",
      "metadata": {
        "id": "KGnJv97E6_kD"
      },
      "source": [
        "## 3. Saving and Exporting"
      ],
      "id": "KGnJv97E6_kD"
    },
    {
      "cell_type": "markdown",
      "metadata": {
        "id": "LCfQcFSJ6_kD"
      },
      "source": [
        "- `Ctrl + S` (or `Cmd + S` on Mac) → Save notebook\n",
        "- Menu: *File → Download as…* → export to `.py`, `.html`, or `.pdf`\n",
        "- GitHub + Colab workflow: commit changes back to your repo directly"
      ],
      "id": "LCfQcFSJ6_kD"
    },
    {
      "cell_type": "markdown",
      "metadata": {
        "id": "AvFj7Xj96_kD"
      },
      "source": [
        "✅ **Your Turn**: Save this notebook, then try exporting to `.py` or `.html` from the File menu."
      ],
      "id": "AvFj7Xj96_kD"
    },
    {
      "cell_type": "markdown",
      "metadata": {
        "id": "DStelVye6_kD"
      },
      "source": [
        "## 4. History and Saving Code"
      ],
      "id": "DStelVye6_kD"
    },
    {
      "cell_type": "code",
      "execution_count": 6,
      "metadata": {
        "id": "aKbuLMn56_kE",
        "outputId": "30f13ea7-c4f1-44f9-b089-84dd5a184764",
        "colab": {
          "base_uri": "https://localhost:8080/"
        }
      },
      "outputs": [
        {
          "output_type": "stream",
          "name": "stdout",
          "text": [
            "   1: %history -n 1-5  # Show the first 5 commands in this session\n",
            "   2:\n",
            "# Show the first 5 commands in this session\n",
            "%history -n 1-5\n",
            "   3:\n",
            "# Show the first 5 commands in this session\n",
            "%history -n 1-5\n",
            "   4:\n",
            "# Show the first 5 commands in this session\n",
            "%history\n",
            "   5:\n",
            "# Show the first 5 commands in this session\n",
            "%history -n 1-5\n"
          ]
        }
      ],
      "source": [
        "# Show the first 5 commands in this session\n",
        "%history -n 1-5"
      ],
      "id": "aKbuLMn56_kE"
    },
    {
      "cell_type": "code",
      "execution_count": 7,
      "metadata": {
        "id": "OC5vbowS6_kE",
        "outputId": "7c01f2c3-1259-4a0c-e84a-4d9efba76176",
        "colab": {
          "base_uri": "https://localhost:8080/"
        }
      },
      "outputs": [
        {
          "output_type": "stream",
          "name": "stdout",
          "text": [
            "The following commands were written to file `my_session.py`:\n",
            "get_ipython().run_line_magic('history', '-n 1-5  # Show the first 5 commands in this session')\n",
            "# Show the first 5 commands in this session\n",
            "get_ipython().run_line_magic('history', '-n 1-5')\n",
            "# Show the first 5 commands in this session\n",
            "get_ipython().run_line_magic('history', '-n 1-5')\n",
            "# Show the first 5 commands in this session\n",
            "get_ipython().run_line_magic('history', '')\n",
            "# Show the first 5 commands in this session\n",
            "get_ipython().run_line_magic('history', '-n 1-5')\n"
          ]
        }
      ],
      "source": [
        "# Save history to a file\n",
        "%save my_session.py 1-5"
      ],
      "id": "OC5vbowS6_kE"
    },
    {
      "cell_type": "markdown",
      "metadata": {
        "id": "WJ1pP9Wd6_kE"
      },
      "source": [
        "✅ **Your Turn**: Use `%history` to view the last 10 commands you ran, then save them to `last10.py`."
      ],
      "id": "WJ1pP9Wd6_kE"
    },
    {
      "cell_type": "code",
      "source": [
        "%history -n 1-10"
      ],
      "metadata": {
        "id": "RdvNc6E7_wcg",
        "outputId": "4a50bc5d-ac55-49fd-bb9d-0feebef553c3",
        "colab": {
          "base_uri": "https://localhost:8080/"
        }
      },
      "id": "RdvNc6E7_wcg",
      "execution_count": 8,
      "outputs": [
        {
          "output_type": "stream",
          "name": "stdout",
          "text": [
            "   1: %history -n 1-5  # Show the first 5 commands in this session\n",
            "   2:\n",
            "# Show the first 5 commands in this session\n",
            "%history -n 1-5\n",
            "   3:\n",
            "# Show the first 5 commands in this session\n",
            "%history -n 1-5\n",
            "   4:\n",
            "# Show the first 5 commands in this session\n",
            "%history\n",
            "   5:\n",
            "# Show the first 5 commands in this session\n",
            "%history -n 1-5\n",
            "   6:\n",
            "# Show the first 5 commands in this session\n",
            "%history -n 1-5\n",
            "   7:\n",
            "# Save history to a file\n",
            "%save my_session.py 1-5\n",
            "   8: %history -n 1-10\n"
          ]
        }
      ]
    },
    {
      "cell_type": "markdown",
      "metadata": {
        "id": "Ywld4lU86_kE"
      },
      "source": [
        "---\n",
        "### Summary\n",
        "- Command vs Edit mode controls how you interact with cells.\n",
        "- Shortcuts make notebook use much faster.\n",
        "- You can export notebooks to share or turn them into scripts.\n",
        "- `%history` and `%save` help you capture your work.\n"
      ],
      "id": "Ywld4lU86_kE"
    }
  ],
  "metadata": {
    "kernelspec": {
      "display_name": "Python 3",
      "language": "python",
      "name": "python3"
    },
    "language_info": {
      "name": "python",
      "version": "3.x"
    },
    "colab": {
      "provenance": [],
      "include_colab_link": true
    }
  },
  "nbformat": 4,
  "nbformat_minor": 5
}