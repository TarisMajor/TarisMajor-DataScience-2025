{
  "cells": [
    {
      "cell_type": "markdown",
      "metadata": {
        "id": "view-in-github",
        "colab_type": "text"
      },
      "source": [
        "<a href=\"https://colab.research.google.com/github/TarisMajor/TarisMajor-DataScience-2025/blob/main/Completed/05-Foundations/02-markdown_and_formatting.ipynb\" target=\"_parent\"><img src=\"https://colab.research.google.com/assets/colab-badge.svg\" alt=\"Open In Colab\"/></a>"
      ]
    },
    {
      "cell_type": "markdown",
      "metadata": {
        "id": "Lpedn1T8KOQA"
      },
      "source": [
        "# 📝 02 - Markdown and Formatting\n",
        "\n",
        "Jupyter notebooks are not just for code — you can mix **Markdown** and code to create clear, professional-looking reports.\n",
        "\n",
        "This notebook introduces:\n",
        "- Writing Markdown cells (headings, lists, links)\n",
        "- Adding inline **LaTeX math**\n",
        "- Embedding images\n",
        "- Why formatting matters in data science communication\n"
      ],
      "id": "Lpedn1T8KOQA"
    },
    {
      "cell_type": "markdown",
      "metadata": {
        "id": "1QXtyl5qKOQF"
      },
      "source": [
        "## 1. Headings and Text Styles"
      ],
      "id": "1QXtyl5qKOQF"
    },
    {
      "cell_type": "markdown",
      "metadata": {
        "id": "8Bb6j0Q1KOQF"
      },
      "source": [
        "### Example\n",
        "# Heading 1\n",
        "## Heading 2\n",
        "### Heading 3\n",
        "\n",
        "**Bold text**, *italic text*, `inline code`"
      ],
      "id": "8Bb6j0Q1KOQF"
    },
    {
      "cell_type": "markdown",
      "metadata": {
        "id": "Gr2tKHQFKOQG"
      },
      "source": [
        "✅ **Your Turn**: Create a cell with the heading `## My Favorite Data Tools` and list at least three tools in bold."
      ],
      "id": "Gr2tKHQFKOQG"
    },
    {
      "cell_type": "markdown",
      "metadata": {
        "id": "DiWBQKvTKOQG"
      },
      "source": [
        "## 2. Lists"
      ],
      "id": "DiWBQKvTKOQG"
    },
    {
      "cell_type": "markdown",
      "metadata": {
        "id": "Xii8VLNnKOQH"
      },
      "source": [
        "### Example\n",
        "- Item 1\n",
        "- Item 2\n",
        "  - Sub-item 2a\n",
        "  - Sub-item 2b\n",
        "\n",
        "1. First\n",
        "2. Second\n",
        "3. Third"
      ],
      "id": "Xii8VLNnKOQH"
    },
    {
      "cell_type": "markdown",
      "metadata": {
        "id": "QFQ3qF9YKOQH"
      },
      "source": [
        "✅ **Your Turn**: Make an ordered list of your top 3 programming languages."
      ],
      "id": "QFQ3qF9YKOQH"
    },
    {
      "cell_type": "markdown",
      "source": [
        "### Top 3 Programming Languages\n",
        "1. C++\n",
        "2. Python\n",
        "3. JavaScript"
      ],
      "metadata": {
        "id": "OyEnS-E9OkGz"
      },
      "id": "OyEnS-E9OkGz"
    },
    {
      "cell_type": "markdown",
      "metadata": {
        "id": "NL9pzKvTKOQH"
      },
      "source": [
        "## 3. Links and Images"
      ],
      "id": "NL9pzKvTKOQH"
    },
    {
      "cell_type": "markdown",
      "metadata": {
        "id": "FhIrfVNOKOQI"
      },
      "source": [
        "### Links\n",
        "[OpenAI](https://www.openai.com)\n",
        "\n",
        "### Images\n",
        "![MSU Logo](https://upload.wikimedia.org/wikipedia/en/8/8b/Midwestern_State_University_seal.png)"
      ],
      "id": "FhIrfVNOKOQI"
    },
    {
      "cell_type": "markdown",
      "metadata": {
        "id": "vL41kv-UKOQI"
      },
      "source": [
        "✅ **Your Turn**: Insert a link to your favorite website and embed an image (can be a URL or local file)."
      ],
      "id": "vL41kv-UKOQI"
    },
    {
      "cell_type": "markdown",
      "source": [
        "### My favorite website\n",
        "\n",
        "[Portfolio](https://tarismajor.github.io/)"
      ],
      "metadata": {
        "id": "lI4yJXXcO-fa"
      },
      "id": "lI4yJXXcO-fa"
    },
    {
      "cell_type": "markdown",
      "metadata": {
        "id": "u_arH98DKOQJ"
      },
      "source": [
        "## 4. LaTeX Math"
      ],
      "id": "u_arH98DKOQJ"
    },
    {
      "cell_type": "markdown",
      "metadata": {
        "id": "xJHhQsH-KOQJ"
      },
      "source": [
        "You can render math using LaTeX syntax inside `$ ... $` for inline or `$$ ... $$` for block math.\n",
        "\n",
        "Example:  \n",
        "Inline: $E = mc^2$  \n",
        "Block:\n",
        "$$\n",
        "\\frac{\\partial f}{\\partial x} = 2x\n",
        "$$"
      ],
      "id": "xJHhQsH-KOQJ"
    },
    {
      "cell_type": "markdown",
      "metadata": {
        "id": "ULtb2bFFKOQJ"
      },
      "source": [
        "✅ **Your Turn**: Write the quadratic formula in LaTeX."
      ],
      "id": "ULtb2bFFKOQJ"
    },
    {
      "cell_type": "markdown",
      "source": [
        "Quadratic Formula:\n",
        "$$\n",
        "ax^2 +bx +c = 0\n",
        "$$"
      ],
      "metadata": {
        "id": "IQyrqy2_PkH7"
      },
      "id": "IQyrqy2_PkH7"
    },
    {
      "cell_type": "markdown",
      "metadata": {
        "id": "1vgkOTQCKOQJ"
      },
      "source": [
        "## 5. Mixing Code and Markdown"
      ],
      "id": "1vgkOTQCKOQJ"
    },
    {
      "cell_type": "code",
      "execution_count": 1,
      "metadata": {
        "id": "Og3-xsGWKOQJ",
        "outputId": "0cd8e432-fac7-4a84-b9c8-c12e3db64006",
        "colab": {
          "base_uri": "https://localhost:8080/"
        }
      },
      "outputs": [
        {
          "output_type": "execute_result",
          "data": {
            "text/plain": [
              "[1, 4, 9, 16, 25]"
            ]
          },
          "metadata": {},
          "execution_count": 1
        }
      ],
      "source": [
        "# Example: create data in Python\n",
        "numbers = [1, 2, 3, 4, 5]\n",
        "squares = [n**2 for n in numbers]\n",
        "squares"
      ],
      "id": "Og3-xsGWKOQJ"
    },
    {
      "cell_type": "markdown",
      "metadata": {
        "id": "73sLUTcdKOQL"
      },
      "source": [
        "Now we explain results in Markdown:\n",
        "- The list `numbers` contained 1–5.\n",
        "- The list `squares` contains each number squared.\n",
        "- Mixing narrative + results is why notebooks are so powerful."
      ],
      "id": "73sLUTcdKOQL"
    },
    {
      "cell_type": "markdown",
      "metadata": {
        "id": "4UCsKyUiKOQM"
      },
      "source": [
        "✅ **Your Turn**: Create a list of 3 numbers, calculate their cubes in code, then explain in Markdown."
      ],
      "id": "4UCsKyUiKOQM"
    },
    {
      "cell_type": "code",
      "source": [
        "nums = [3, 5, 7]\n",
        "cubes = [n**3 for n in nums]\n",
        "cubes"
      ],
      "metadata": {
        "id": "yAcioAaBQetJ",
        "outputId": "f0f0cbe8-a3c4-479d-a78c-db2383f37506",
        "colab": {
          "base_uri": "https://localhost:8080/"
        }
      },
      "id": "yAcioAaBQetJ",
      "execution_count": 3,
      "outputs": [
        {
          "output_type": "execute_result",
          "data": {
            "text/plain": [
              "[27, 125, 343]"
            ]
          },
          "metadata": {},
          "execution_count": 3
        }
      ]
    },
    {
      "cell_type": "markdown",
      "source": [
        "The list **nums** has values 3, 5, and 7.\n",
        "We're using the formula:\n",
        "$$\n",
        "cubed = nums[3^3, 5^3, 7^3]\n",
        "$$\n"
      ],
      "metadata": {
        "id": "wSFDvSzZQp19"
      },
      "id": "wSFDvSzZQp19"
    },
    {
      "cell_type": "markdown",
      "metadata": {
        "id": "Mno6M4eWKOQM"
      },
      "source": [
        "---\n",
        "### Summary\n",
        "- Use headings and formatting to organize.\n",
        "- Lists and links make content readable.\n",
        "- LaTeX lets you add professional math.\n",
        "- Combine code + Markdown for clear data storytelling.\n"
      ],
      "id": "Mno6M4eWKOQM"
    }
  ],
  "metadata": {
    "kernelspec": {
      "display_name": "Python 3",
      "language": "python",
      "name": "python3"
    },
    "language_info": {
      "name": "python",
      "version": "3.x"
    },
    "colab": {
      "provenance": [],
      "include_colab_link": true
    }
  },
  "nbformat": 4,
  "nbformat_minor": 5
}