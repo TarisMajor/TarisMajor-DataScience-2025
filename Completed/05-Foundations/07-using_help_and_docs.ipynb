{
  "cells": [
    {
      "cell_type": "markdown",
      "metadata": {
        "id": "view-in-github",
        "colab_type": "text"
      },
      "source": [
        "<a href=\"https://colab.research.google.com/github/TarisMajor/TarisMajor-DataScience-2025/blob/main/Completed/05-Foundations/07-using_help_and_docs.ipynb\" target=\"_parent\"><img src=\"https://colab.research.google.com/assets/colab-badge.svg\" alt=\"Open In Colab\"/></a>"
      ]
    },
    {
      "cell_type": "markdown",
      "metadata": {
        "id": "Q7MOS8wdARV0"
      },
      "source": [
        "# 📚 07 - Using Help and Documentation\n",
        "\n",
        "One of the most important skills in programming is knowing **how to get help**.  \n",
        "Jupyter/IPython make it easy to explore functions, classes, and objects.\n",
        "\n",
        "In this notebook you will learn:\n",
        "- Using `?` and `??` to view docstrings and source code\n",
        "- The built-in `help()` function\n",
        "- Tab completion for attributes and methods\n",
        "- Accessing external documentation\n"
      ],
      "id": "Q7MOS8wdARV0"
    },
    {
      "cell_type": "markdown",
      "metadata": {
        "id": "HLTxHTIGARV2"
      },
      "source": [
        "## 1. Using `?` for Quick Help"
      ],
      "id": "HLTxHTIGARV2"
    },
    {
      "cell_type": "code",
      "execution_count": 3,
      "metadata": {
        "id": "31s72K__ARV3"
      },
      "outputs": [],
      "source": [
        "# Show help for the built-in len() function\n",
        "len?"
      ],
      "id": "31s72K__ARV3"
    },
    {
      "cell_type": "code",
      "execution_count": 4,
      "metadata": {
        "id": "AB89aQNhARV3"
      },
      "outputs": [],
      "source": [
        "# Show help for print()\n",
        "print?"
      ],
      "id": "AB89aQNhARV3"
    },
    {
      "cell_type": "markdown",
      "metadata": {
        "id": "3THpW3aPARV4"
      },
      "source": [
        "✅ **Your Turn**: Use `?` to check the documentation for `range` and `dict`."
      ],
      "id": "3THpW3aPARV4"
    },
    {
      "cell_type": "markdown",
      "metadata": {
        "id": "02GAsEiTARV4"
      },
      "source": [
        "## 2. Using `??` for Source Code (if available)"
      ],
      "id": "02GAsEiTARV4"
    },
    {
      "cell_type": "code",
      "execution_count": 6,
      "metadata": {
        "id": "_CksBrOBARV4"
      },
      "outputs": [],
      "source": [
        "# Try to view source code for sum()\n",
        "sum??"
      ],
      "id": "_CksBrOBARV4"
    },
    {
      "cell_type": "markdown",
      "metadata": {
        "id": "msWnIa7fARV4"
      },
      "source": [
        "✅ **Your Turn**: Use `??` on `pd.read_csv` (after importing pandas) to see if you can view more details."
      ],
      "id": "msWnIa7fARV4"
    },
    {
      "cell_type": "code",
      "source": [
        "import pandas as pd\n",
        "\n",
        "pd.read_csv??"
      ],
      "metadata": {
        "id": "PhSfVxEoBCot"
      },
      "id": "PhSfVxEoBCot",
      "execution_count": 9,
      "outputs": []
    },
    {
      "cell_type": "markdown",
      "metadata": {
        "id": "LCd05uOrARV5"
      },
      "source": [
        "## 3. The `help()` Function"
      ],
      "id": "LCd05uOrARV5"
    },
    {
      "cell_type": "code",
      "execution_count": 10,
      "metadata": {
        "id": "P1VVQml-ARV5",
        "outputId": "efe21b10-0212-4706-d0cd-7b5402e84075",
        "colab": {
          "base_uri": "https://localhost:8080/"
        }
      },
      "outputs": [
        {
          "output_type": "stream",
          "name": "stdout",
          "text": [
            "Help on built-in function len in module builtins:\n",
            "\n",
            "len(obj, /)\n",
            "    Return the number of items in a container.\n",
            "\n"
          ]
        }
      ],
      "source": [
        "help(len)"
      ],
      "id": "P1VVQml-ARV5"
    },
    {
      "cell_type": "code",
      "execution_count": 11,
      "metadata": {
        "id": "FoN2zNZBARV5",
        "outputId": "4190e197-6954-46dc-a0bc-5a4a35833b88",
        "colab": {
          "base_uri": "https://localhost:8080/"
        }
      },
      "outputs": [
        {
          "output_type": "stream",
          "name": "stdout",
          "text": [
            "Help on built-in function sqrt in module math:\n",
            "\n",
            "sqrt(x, /)\n",
            "    Return the square root of x.\n",
            "\n"
          ]
        }
      ],
      "source": [
        "import math\n",
        "help(math.sqrt)"
      ],
      "id": "FoN2zNZBARV5"
    },
    {
      "cell_type": "markdown",
      "metadata": {
        "id": "DhMCoc7CARV5"
      },
      "source": [
        "✅ **Your Turn**: Use `help()` to explore `list.append` or `str.upper`."
      ],
      "id": "DhMCoc7CARV5"
    },
    {
      "cell_type": "code",
      "source": [
        "help(list.append)"
      ],
      "metadata": {
        "id": "Z61ZrrXgBUWK",
        "outputId": "a370dad6-1aec-490c-d766-65ee22f8b571",
        "colab": {
          "base_uri": "https://localhost:8080/"
        }
      },
      "id": "Z61ZrrXgBUWK",
      "execution_count": 12,
      "outputs": [
        {
          "output_type": "stream",
          "name": "stdout",
          "text": [
            "Help on method_descriptor:\n",
            "\n",
            "append(self, object, /) unbound builtins.list method\n",
            "    Append object to the end of the list.\n",
            "\n"
          ]
        }
      ]
    },
    {
      "cell_type": "code",
      "source": [
        "help(str.upper)"
      ],
      "metadata": {
        "id": "1kbEtaCiBaVi",
        "outputId": "00b25c97-4b64-40f2-85c0-e87fbcc8b1c7",
        "colab": {
          "base_uri": "https://localhost:8080/"
        }
      },
      "id": "1kbEtaCiBaVi",
      "execution_count": 13,
      "outputs": [
        {
          "output_type": "stream",
          "name": "stdout",
          "text": [
            "Help on method_descriptor:\n",
            "\n",
            "upper(self, /) unbound builtins.str method\n",
            "    Return a copy of the string converted to uppercase.\n",
            "\n"
          ]
        }
      ]
    },
    {
      "cell_type": "markdown",
      "metadata": {
        "id": "ssZ41bK4ARV5"
      },
      "source": [
        "## 4. Tab Completion"
      ],
      "id": "ssZ41bK4ARV5"
    },
    {
      "cell_type": "markdown",
      "metadata": {
        "id": "Ze4AI042ARV5"
      },
      "source": [
        "In a Jupyter cell, type an object name followed by a dot and press `Tab` to see available methods.\n",
        "\n",
        "Example:\n",
        "```python\n",
        "mylist = []\n",
        "mylist.<TAB>\n",
        "```\n",
        "will show you all methods like `append`, `clear`, `copy`, etc."
      ],
      "id": "Ze4AI042ARV5"
    },
    {
      "cell_type": "markdown",
      "metadata": {
        "id": "Hupr8XdHARV6"
      },
      "source": [
        "✅ **Your Turn**: Create a dictionary and use tab completion to explore its methods."
      ],
      "id": "Hupr8XdHARV6"
    },
    {
      "cell_type": "code",
      "source": [
        "mydict = {\"name\": \"Taris\"}\n",
        "mydict.items()"
      ],
      "metadata": {
        "id": "Uewwo6BfBgta",
        "outputId": "e22d219b-f48a-4d56-de0a-9f8d6a404b4d",
        "colab": {
          "base_uri": "https://localhost:8080/"
        }
      },
      "id": "Uewwo6BfBgta",
      "execution_count": 19,
      "outputs": [
        {
          "output_type": "execute_result",
          "data": {
            "text/plain": [
              "dict_items([('name', 'Taris')])"
            ]
          },
          "metadata": {},
          "execution_count": 19
        }
      ]
    },
    {
      "cell_type": "markdown",
      "metadata": {
        "id": "Ozfrlmx2ARV6"
      },
      "source": [
        "## 5. External Documentation"
      ],
      "id": "Ozfrlmx2ARV6"
    },
    {
      "cell_type": "markdown",
      "metadata": {
        "id": "qbR5Ht5fARV6"
      },
      "source": [
        "- Many libraries (like Pandas, NumPy, Matplotlib) have excellent online docs.\n",
        "- Example: [https://pandas.pydata.org/docs/](https://pandas.pydata.org/docs/)\n",
        "- You can Google: `pandas read_csv site:pandas.pydata.org`"
      ],
      "id": "qbR5Ht5fARV6"
    },
    {
      "cell_type": "markdown",
      "metadata": {
        "id": "UR_EMPStARV6"
      },
      "source": [
        "✅ **Your Turn**: Look up the official documentation for Matplotlib’s `plt.plot` online."
      ],
      "id": "UR_EMPStARV6"
    },
    {
      "cell_type": "markdown",
      "metadata": {
        "id": "QvggyTQkARV6"
      },
      "source": [
        "---\n",
        "### Summary\n",
        "- `?` gives quick documentation.\n",
        "- `??` shows source if available.\n",
        "- `help()` is Python’s built-in way.\n",
        "- Tab completion speeds up discovery.\n",
        "- External docs are your best friend for deeper dives.\n"
      ],
      "id": "QvggyTQkARV6"
    }
  ],
  "metadata": {
    "kernelspec": {
      "display_name": "Python 3",
      "language": "python",
      "name": "python3"
    },
    "language_info": {
      "name": "python",
      "version": "3.x"
    },
    "colab": {
      "provenance": [],
      "include_colab_link": true
    }
  },
  "nbformat": 4,
  "nbformat_minor": 5
}