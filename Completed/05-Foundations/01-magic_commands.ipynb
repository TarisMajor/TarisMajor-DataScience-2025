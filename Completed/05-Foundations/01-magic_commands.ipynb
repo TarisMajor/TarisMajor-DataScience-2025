{
  "cells": [
    {
      "cell_type": "markdown",
      "metadata": {
        "id": "view-in-github",
        "colab_type": "text"
      },
      "source": [
        "<a href=\"https://colab.research.google.com/github/TarisMajor/TarisMajor-DataScience-2025/blob/main/Completed/05-Foundations/01-magic_commands.ipynb\" target=\"_parent\"><img src=\"https://colab.research.google.com/assets/colab-badge.svg\" alt=\"Open In Colab\"/></a>"
      ]
    },
    {
      "cell_type": "markdown",
      "metadata": {
        "id": "j_wYlMioBn0O"
      },
      "source": [
        "# 🧙 Magic Commands Demo Notebook\n",
        "\n",
        "This notebook introduces some of the most useful **IPython magic commands** in Jupyter.  \n",
        "Run each cell and see what happens!"
      ],
      "id": "j_wYlMioBn0O"
    },
    {
      "cell_type": "markdown",
      "metadata": {
        "id": "PxGs5BQ7Bn0S"
      },
      "source": [
        "## 1. Timing and Performance"
      ],
      "id": "PxGs5BQ7Bn0S"
    },
    {
      "cell_type": "code",
      "execution_count": 1,
      "metadata": {
        "id": "muSiWfTgBn0T",
        "outputId": "06b4d7e9-fb8c-4627-8d9e-ff1ce215fe3d",
        "colab": {
          "base_uri": "https://localhost:8080/"
        }
      },
      "outputs": [
        {
          "output_type": "stream",
          "name": "stdout",
          "text": [
            "CPU times: user 32.2 ms, sys: 1.04 ms, total: 33.2 ms\n",
            "Wall time: 33.6 ms\n"
          ]
        },
        {
          "output_type": "execute_result",
          "data": {
            "text/plain": [
              "499999500000"
            ]
          },
          "metadata": {},
          "execution_count": 1
        }
      ],
      "source": [
        "%time sum(range(1_000_000))"
      ],
      "id": "muSiWfTgBn0T"
    },
    {
      "cell_type": "code",
      "execution_count": 2,
      "metadata": {
        "id": "Sim9-iECBn0V",
        "outputId": "f65cdfe1-f8b8-4f0a-96ac-add8503b3e3a",
        "colab": {
          "base_uri": "https://localhost:8080/"
        }
      },
      "outputs": [
        {
          "output_type": "stream",
          "name": "stdout",
          "text": [
            "40.2 ms ± 11.4 ms per loop (mean ± std. dev. of 7 runs, 10 loops each)\n"
          ]
        }
      ],
      "source": [
        "%timeit sum(range(1_000_000))"
      ],
      "id": "Sim9-iECBn0V"
    },
    {
      "cell_type": "code",
      "execution_count": 6,
      "metadata": {
        "id": "N5DmhVIsBn0V",
        "outputId": "74baf139-6c98-4b3f-f787-efa14d5d003e",
        "colab": {
          "base_uri": "https://localhost:8080/"
        }
      },
      "outputs": [
        {
          "output_type": "stream",
          "name": "stdout",
          "text": [
            "CPU times: user 138 ms, sys: 0 ns, total: 138 ms\n",
            "Wall time: 155 ms\n"
          ]
        }
      ],
      "source": [
        "%%time\n",
        "total = 0\n",
        "for i in range(1_000_000):\n",
        "    total += i"
      ],
      "id": "N5DmhVIsBn0V"
    },
    {
      "cell_type": "markdown",
      "metadata": {
        "id": "PraZ_5MBBn0V"
      },
      "source": [
        "## 2. Working with Files"
      ],
      "id": "PraZ_5MBBn0V"
    },
    {
      "cell_type": "code",
      "execution_count": 7,
      "metadata": {
        "id": "PpWldh-vBn0W",
        "outputId": "389e6a4d-f234-46e6-8b57-6146c537e0e1",
        "colab": {
          "base_uri": "https://localhost:8080/",
          "height": 35
        }
      },
      "outputs": [
        {
          "output_type": "execute_result",
          "data": {
            "text/plain": [
              "'/content'"
            ],
            "application/vnd.google.colaboratory.intrinsic+json": {
              "type": "string"
            }
          },
          "metadata": {},
          "execution_count": 7
        }
      ],
      "source": [
        "%pwd"
      ],
      "id": "PpWldh-vBn0W"
    },
    {
      "cell_type": "code",
      "execution_count": 8,
      "metadata": {
        "id": "OcqXulQlBn0W",
        "outputId": "81e2d634-13fd-40c2-9988-108927c1aad5",
        "colab": {
          "base_uri": "https://localhost:8080/"
        }
      },
      "outputs": [
        {
          "output_type": "stream",
          "name": "stdout",
          "text": [
            "\u001b[0m\u001b[01;34msample_data\u001b[0m/\n"
          ]
        }
      ],
      "source": [
        "%ls"
      ],
      "id": "OcqXulQlBn0W"
    },
    {
      "cell_type": "code",
      "execution_count": 9,
      "metadata": {
        "id": "IFxGx0r8Bn0X",
        "outputId": "db15b7fa-7ae2-4cf4-cb87-ded54250c372",
        "colab": {
          "base_uri": "https://localhost:8080/",
          "height": 53
        }
      },
      "outputs": [
        {
          "output_type": "stream",
          "name": "stdout",
          "text": [
            "/\n"
          ]
        },
        {
          "output_type": "execute_result",
          "data": {
            "text/plain": [
              "'/'"
            ],
            "application/vnd.google.colaboratory.intrinsic+json": {
              "type": "string"
            }
          },
          "metadata": {},
          "execution_count": 9
        }
      ],
      "source": [
        "%cd ..\n",
        "%pwd"
      ],
      "id": "IFxGx0r8Bn0X"
    },
    {
      "cell_type": "markdown",
      "metadata": {
        "id": "5Pux52ONBn0X"
      },
      "source": [
        "## 3. Variables in Memory"
      ],
      "id": "5Pux52ONBn0X"
    },
    {
      "cell_type": "code",
      "execution_count": 10,
      "metadata": {
        "id": "RQLYuSYSBn0X",
        "outputId": "19e0df52-4e2e-4b6d-fbdc-cae20003efef",
        "colab": {
          "base_uri": "https://localhost:8080/"
        }
      },
      "outputs": [
        {
          "output_type": "stream",
          "name": "stdout",
          "text": [
            "a\t b\t c\t i\t total\t \n"
          ]
        }
      ],
      "source": [
        "a = 42\n",
        "b = [1, 2, 3]\n",
        "c = {\"name\": \"Graylian\"}\n",
        "\n",
        "%who"
      ],
      "id": "RQLYuSYSBn0X"
    },
    {
      "cell_type": "code",
      "execution_count": 11,
      "metadata": {
        "id": "cTjDtVFsBn0X",
        "outputId": "e917fc36-41df-4344-e73b-8e5cf046f082",
        "colab": {
          "base_uri": "https://localhost:8080/"
        }
      },
      "outputs": [
        {
          "output_type": "stream",
          "name": "stdout",
          "text": [
            "Variable   Type    Data/Info\n",
            "----------------------------\n",
            "a          int     42\n",
            "b          list    n=3\n",
            "c          dict    n=1\n",
            "i          int     999999\n",
            "total      int     499999500000\n"
          ]
        }
      ],
      "source": [
        "%whos"
      ],
      "id": "cTjDtVFsBn0X"
    },
    {
      "cell_type": "code",
      "execution_count": 13,
      "metadata": {
        "id": "gHt0VZ5JBn0X",
        "outputId": "a9525177-3f62-4d9c-bdf6-39838b24f238",
        "colab": {
          "base_uri": "https://localhost:8080/"
        }
      },
      "outputs": [
        {
          "output_type": "stream",
          "name": "stdout",
          "text": [
            "Once deleted, variables cannot be recovered. Proceed (y/[n])? n\n",
            "Nothing done.\n"
          ]
        }
      ],
      "source": [
        "%reset"
      ],
      "id": "gHt0VZ5JBn0X"
    },
    {
      "cell_type": "markdown",
      "metadata": {
        "id": "AP50NxtLBn0Y"
      },
      "source": [
        "## 4. Debugging and Introspection"
      ],
      "id": "AP50NxtLBn0Y"
    },
    {
      "cell_type": "code",
      "execution_count": 14,
      "metadata": {
        "id": "8_fPjyxrBn0Y",
        "outputId": "0a6def6d-96a0-43be-8c2c-9b9bbbaadd43",
        "colab": {
          "base_uri": "https://localhost:8080/",
          "height": 141
        }
      },
      "outputs": [
        {
          "output_type": "error",
          "ename": "ZeroDivisionError",
          "evalue": "division by zero",
          "traceback": [
            "\u001b[0;31m---------------------------------------------------------------------------\u001b[0m",
            "\u001b[0;31mZeroDivisionError\u001b[0m                         Traceback (most recent call last)",
            "\u001b[0;32m/tmp/ipython-input-1455669704.py\u001b[0m in \u001b[0;36m<cell line: 0>\u001b[0;34m()\u001b[0m\n\u001b[0;32m----> 1\u001b[0;31m \u001b[0;36m1\u001b[0m \u001b[0;34m/\u001b[0m \u001b[0;36m0\u001b[0m\u001b[0;34m\u001b[0m\u001b[0;34m\u001b[0m\u001b[0m\n\u001b[0m",
            "\u001b[0;31mZeroDivisionError\u001b[0m: division by zero"
          ]
        }
      ],
      "source": [
        "1 / 0"
      ],
      "id": "8_fPjyxrBn0Y"
    },
    {
      "cell_type": "code",
      "execution_count": 15,
      "metadata": {
        "id": "pY14iJHXBn0Y",
        "outputId": "f1ae5646-e014-43f9-c652-984731850d77",
        "colab": {
          "base_uri": "https://localhost:8080/"
        }
      },
      "outputs": [
        {
          "output_type": "stream",
          "name": "stdout",
          "text": [
            "> \u001b[0;32m/tmp/ipython-input-1455669704.py\u001b[0m(1)\u001b[0;36m<cell line: 0>\u001b[0;34m()\u001b[0m\n",
            "\u001b[0;32m----> 1 \u001b[0;31m\u001b[0;36m1\u001b[0m \u001b[0;34m/\u001b[0m \u001b[0;36m0\u001b[0m\u001b[0;34m\u001b[0m\u001b[0;34m\u001b[0m\u001b[0m\n",
            "\u001b[0m\n",
            "ipdb> 1\n",
            "1\n",
            "ipdb> 1/1\n",
            "1.0\n",
            "ipdb> 1/0\n",
            "*** ZeroDivisionError: division by zero\n",
            "--KeyboardInterrupt--\n",
            "\n",
            "KeyboardInterrupt: Interrupted by user\n"
          ]
        }
      ],
      "source": [
        "%debug"
      ],
      "id": "pY14iJHXBn0Y"
    },
    {
      "cell_type": "markdown",
      "metadata": {
        "id": "zbCww75QBn0Y"
      },
      "source": [
        "## 5. Writing and Running Files"
      ],
      "id": "zbCww75QBn0Y"
    },
    {
      "cell_type": "code",
      "execution_count": 16,
      "metadata": {
        "id": "as5jfBvxBn0Y",
        "outputId": "b4a1bc30-7da0-4ec4-af9e-650ffdb1a248",
        "colab": {
          "base_uri": "https://localhost:8080/"
        }
      },
      "outputs": [
        {
          "output_type": "stream",
          "name": "stdout",
          "text": [
            "Writing hello.py\n"
          ]
        }
      ],
      "source": [
        "%%writefile hello.py\n",
        "print(\"Hello from a file!\")"
      ],
      "id": "as5jfBvxBn0Y"
    },
    {
      "cell_type": "code",
      "execution_count": 17,
      "metadata": {
        "id": "LWlx6SV2Bn0Y",
        "outputId": "811ca9b8-d01c-4abf-9bc1-0d9879de447e",
        "colab": {
          "base_uri": "https://localhost:8080/"
        }
      },
      "outputs": [
        {
          "output_type": "stream",
          "name": "stdout",
          "text": [
            "Hello from a file!\n"
          ]
        }
      ],
      "source": [
        "%run hello.py"
      ],
      "id": "LWlx6SV2Bn0Y"
    },
    {
      "cell_type": "markdown",
      "metadata": {
        "id": "ntg831GlBn0Y"
      },
      "source": [
        "## 6. Output and Formatting"
      ],
      "id": "ntg831GlBn0Y"
    },
    {
      "cell_type": "code",
      "execution_count": 18,
      "metadata": {
        "id": "n8ydfFdcBn0Y",
        "outputId": "c8b97125-77c3-4a98-b634-07bf7d727262",
        "colab": {
          "base_uri": "https://localhost:8080/",
          "height": 176
        }
      },
      "outputs": [
        {
          "output_type": "error",
          "ename": "NameError",
          "evalue": "name 'cap' is not defined",
          "traceback": [
            "\u001b[0;31m---------------------------------------------------------------------------\u001b[0m",
            "\u001b[0;31mNameError\u001b[0m                                 Traceback (most recent call last)",
            "\u001b[0;32m/tmp/ipython-input-1339094390.py\u001b[0m in \u001b[0;36m<cell line: 0>\u001b[0;34m()\u001b[0m\n\u001b[1;32m      1\u001b[0m \u001b[0mprint\u001b[0m\u001b[0;34m(\u001b[0m\u001b[0;34m\"This will not display right away\"\u001b[0m\u001b[0;34m)\u001b[0m\u001b[0;34m\u001b[0m\u001b[0;34m\u001b[0m\u001b[0m\n\u001b[1;32m      2\u001b[0m \u001b[0;34m\u001b[0m\u001b[0m\n\u001b[0;32m----> 3\u001b[0;31m \u001b[0mcap\u001b[0m\u001b[0;34m.\u001b[0m\u001b[0mshow\u001b[0m\u001b[0;34m(\u001b[0m\u001b[0;34m)\u001b[0m\u001b[0;34m\u001b[0m\u001b[0;34m\u001b[0m\u001b[0m\n\u001b[0m",
            "\u001b[0;31mNameError\u001b[0m: name 'cap' is not defined"
          ]
        }
      ],
      "source": [
        "%%capture cap\n",
        "print(\"This will not display right away\")\n",
        "\n",
        "cap.show()"
      ],
      "id": "n8ydfFdcBn0Y"
    },
    {
      "cell_type": "code",
      "execution_count": 19,
      "metadata": {
        "id": "EgC5hOqEBn0Z",
        "outputId": "fed91b64-573d-4273-cbd1-67a8faf59785",
        "colab": {
          "base_uri": "https://localhost:8080/",
          "height": 74
        }
      },
      "outputs": [
        {
          "output_type": "display_data",
          "data": {
            "text/plain": [
              "<IPython.core.display.HTML object>"
            ],
            "text/html": [
              "<h1 style=\"color: maroon\">Magics are Magical ✨</h1>\n"
            ]
          },
          "metadata": {}
        }
      ],
      "source": [
        "%%html\n",
        "<h1 style=\"color: maroon\">Magics are Magical ✨</h1>"
      ],
      "id": "EgC5hOqEBn0Z"
    },
    {
      "cell_type": "code",
      "execution_count": 20,
      "metadata": {
        "id": "40CyCGINBn0Z",
        "outputId": "348ddb9a-2aff-47f1-ee00-4675aa993f9b",
        "colab": {
          "base_uri": "https://localhost:8080/",
          "height": 100
        }
      },
      "outputs": [
        {
          "output_type": "display_data",
          "data": {
            "text/plain": [
              "<IPython.core.display.Markdown object>"
            ],
            "text/markdown": "# This is a Markdown cell inside code!\n**Bold text** and *italic* still work.\n"
          },
          "metadata": {}
        }
      ],
      "source": [
        "%%markdown\n",
        "# This is a Markdown cell inside code!\n",
        "**Bold text** and *italic* still work."
      ],
      "id": "40CyCGINBn0Z"
    },
    {
      "cell_type": "markdown",
      "metadata": {
        "id": "_al_BHdfBn0Z"
      },
      "source": [
        "## 7. Discover More"
      ],
      "id": "_al_BHdfBn0Z"
    },
    {
      "cell_type": "code",
      "execution_count": 21,
      "metadata": {
        "id": "zg4NpdmlBn0Z",
        "outputId": "03fb201c-a280-4170-a22f-c5cb8fcd8ae0",
        "colab": {
          "base_uri": "https://localhost:8080/",
          "height": 1000
        }
      },
      "outputs": [
        {
          "output_type": "execute_result",
          "data": {
            "text/plain": [
              "Available line magics:\n",
              "%alias  %alias_magic  %autoawait  %autocall  %automagic  %autosave  %bookmark  %cat  %cd  %clear  %colors  %conda  %config  %connect_info  %cp  %debug  %dhist  %dirs  %doctest_mode  %ed  %edit  %env  %gui  %hist  %history  %killbgscripts  %ldir  %less  %lf  %lk  %ll  %load  %load_ext  %loadpy  %logoff  %logon  %logstart  %logstate  %logstop  %ls  %lsmagic  %lx  %macro  %magic  %man  %matplotlib  %mkdir  %more  %mv  %notebook  %page  %pastebin  %pdb  %pdef  %pdoc  %pfile  %pinfo  %pinfo2  %pip  %popd  %pprint  %precision  %prun  %psearch  %psource  %pushd  %pwd  %pycat  %pylab  %qtconsole  %quickref  %recall  %rehashx  %reload_ext  %rep  %rerun  %reset  %reset_selective  %rm  %rmdir  %run  %save  %sc  %set_env  %shell  %store  %sx  %system  %tb  %tensorflow_version  %time  %timeit  %unalias  %unload_ext  %who  %who_ls  %whos  %xdel  %xmode\n",
              "\n",
              "Available cell magics:\n",
              "%%!  %%HTML  %%SVG  %%bash  %%bigquery  %%capture  %%debug  %%file  %%html  %%javascript  %%js  %%latex  %%markdown  %%perl  %%prun  %%pypy  %%python  %%python2  %%python3  %%ruby  %%script  %%sh  %%shell  %%spanner_graph  %%svg  %%sx  %%system  %%time  %%timeit  %%writefile\n",
              "\n",
              "Automagic is ON, % prefix IS NOT needed for line magics."
            ],
            "application/json": {
              "line": {
                "automagic": "AutoMagics",
                "autocall": "AutoMagics",
                "alias_magic": "BasicMagics",
                "lsmagic": "BasicMagics",
                "magic": "BasicMagics",
                "page": "BasicMagics",
                "pprint": "BasicMagics",
                "colors": "BasicMagics",
                "xmode": "BasicMagics",
                "quickref": "BasicMagics",
                "doctest_mode": "BasicMagics",
                "gui": "BasicMagics",
                "precision": "BasicMagics",
                "notebook": "BasicMagics",
                "save": "CodeMagics",
                "pastebin": "CodeMagics",
                "loadpy": "CodeMagics",
                "load": "CodeMagics",
                "edit": "KernelMagics",
                "config": "ConfigMagics",
                "prun": "ExecutionMagics",
                "pdb": "ExecutionMagics",
                "debug": "ExecutionMagics",
                "tb": "ExecutionMagics",
                "run": "ExecutionMagics",
                "timeit": "ExecutionMagics",
                "time": "ExecutionMagics",
                "macro": "ExecutionMagics",
                "load_ext": "ExtensionMagics",
                "unload_ext": "ExtensionMagics",
                "reload_ext": "ExtensionMagics",
                "history": "HistoryMagics",
                "recall": "HistoryMagics",
                "rerun": "HistoryMagics",
                "logstart": "LoggingMagics",
                "logstop": "LoggingMagics",
                "logoff": "LoggingMagics",
                "logon": "LoggingMagics",
                "logstate": "LoggingMagics",
                "pinfo": "NamespaceMagics",
                "pinfo2": "NamespaceMagics",
                "pdef": "NamespaceMagics",
                "pdoc": "NamespaceMagics",
                "psource": "NamespaceMagics",
                "pfile": "NamespaceMagics",
                "psearch": "NamespaceMagics",
                "who_ls": "NamespaceMagics",
                "who": "NamespaceMagics",
                "whos": "NamespaceMagics",
                "reset": "NamespaceMagics",
                "reset_selective": "NamespaceMagics",
                "xdel": "NamespaceMagics",
                "alias": "OSMagics",
                "unalias": "OSMagics",
                "rehashx": "OSMagics",
                "pwd": "OSMagics",
                "cd": "OSMagics",
                "env": "OSMagics",
                "set_env": "OSMagics",
                "pushd": "OSMagics",
                "popd": "OSMagics",
                "dirs": "OSMagics",
                "dhist": "OSMagics",
                "sc": "OSMagics",
                "sx": "OSMagics",
                "system": "OSMagics",
                "bookmark": "OSMagics",
                "pycat": "OSMagics",
                "pip": "Other",
                "conda": "PackagingMagics",
                "matplotlib": "PylabMagics",
                "pylab": "PylabMagics",
                "killbgscripts": "ScriptMagics",
                "autoawait": "AsyncMagics",
                "ed": "Other",
                "hist": "Other",
                "rep": "Other",
                "clear": "KernelMagics",
                "less": "KernelMagics",
                "more": "KernelMagics",
                "man": "KernelMagics",
                "connect_info": "KernelMagics",
                "qtconsole": "KernelMagics",
                "autosave": "KernelMagics",
                "mkdir": "Other",
                "rmdir": "Other",
                "mv": "Other",
                "rm": "Other",
                "cp": "Other",
                "cat": "Other",
                "ls": "Other",
                "ll": "Other",
                "lf": "Other",
                "lk": "Other",
                "ldir": "Other",
                "lx": "Other",
                "store": "StoreMagics",
                "shell": "Other",
                "tensorflow_version": "Other"
              },
              "cell": {
                "js": "DisplayMagics",
                "javascript": "DisplayMagics",
                "latex": "DisplayMagics",
                "svg": "DisplayMagics",
                "html": "DisplayMagics",
                "markdown": "DisplayMagics",
                "prun": "ExecutionMagics",
                "debug": "ExecutionMagics",
                "timeit": "ExecutionMagics",
                "time": "ExecutionMagics",
                "capture": "ExecutionMagics",
                "sx": "OSMagics",
                "system": "OSMagics",
                "!": "OSMagics",
                "writefile": "OSMagics",
                "script": "ScriptMagics",
                "sh": "Other",
                "bash": "Other",
                "perl": "Other",
                "ruby": "Other",
                "python": "Other",
                "python2": "Other",
                "python3": "Other",
                "pypy": "Other",
                "SVG": "Other",
                "HTML": "Other",
                "file": "Other",
                "bigquery": "Other",
                "spanner_graph": "Other",
                "shell": "Other"
              }
            }
          },
          "metadata": {},
          "execution_count": 21
        }
      ],
      "source": [
        "%lsmagic"
      ],
      "id": "zg4NpdmlBn0Z"
    },
    {
      "cell_type": "code",
      "execution_count": 22,
      "metadata": {
        "id": "cnKh3l6tBn0Z"
      },
      "outputs": [],
      "source": [
        "%timeit?"
      ],
      "id": "cnKh3l6tBn0Z"
    },
    {
      "cell_type": "markdown",
      "metadata": {
        "id": "MowvoUZ6Bn0Z"
      },
      "source": [
        "✅ **Try It Yourself**:  \n",
        "- Use `%timeit` to compare a list comprehension `[x**2 for x in range(1000)]` vs a generator `(x**2 for x in range(1000))`.  \n",
        "- Use `%whos` after defining some variables to see their types.  \n",
        "- Use `%%html` to make your own banner."
      ],
      "id": "MowvoUZ6Bn0Z"
    },
    {
      "cell_type": "code",
      "source": [
        "%timeit [x**2 for x in range(1000)]"
      ],
      "metadata": {
        "id": "0T1SFtMlDWG5",
        "outputId": "56cc0aac-6cee-4a06-8149-3dea23a2fa9b",
        "colab": {
          "base_uri": "https://localhost:8080/"
        }
      },
      "id": "0T1SFtMlDWG5",
      "execution_count": 33,
      "outputs": [
        {
          "output_type": "stream",
          "name": "stdout",
          "text": [
            "73 µs ± 683 ns per loop (mean ± std. dev. of 7 runs, 10000 loops each)\n"
          ]
        }
      ]
    },
    {
      "cell_type": "code",
      "source": [
        "%%time\n",
        "t = 0\n",
        "for t in range(1000):\n",
        "    t**2"
      ],
      "metadata": {
        "id": "QjkwkN8rEG2J",
        "outputId": "44fb9e13-03e5-4063-8048-943b4353a945",
        "colab": {
          "base_uri": "https://localhost:8080/"
        }
      },
      "id": "QjkwkN8rEG2J",
      "execution_count": 32,
      "outputs": [
        {
          "output_type": "stream",
          "name": "stdout",
          "text": [
            "CPU times: user 124 µs, sys: 2 µs, total: 126 µs\n",
            "Wall time: 130 µs\n"
          ]
        }
      ]
    },
    {
      "cell_type": "code",
      "source": [
        "%whos"
      ],
      "metadata": {
        "id": "Dov8LD0_EZ1k",
        "outputId": "a0b6a5c8-0a61-48d5-fe68-5ba999c778d6",
        "colab": {
          "base_uri": "https://localhost:8080/"
        }
      },
      "id": "Dov8LD0_EZ1k",
      "execution_count": 34,
      "outputs": [
        {
          "output_type": "stream",
          "name": "stdout",
          "text": [
            "Variable   Type          Data/Info\n",
            "----------------------------------\n",
            "a          int           42\n",
            "b          list          n=3\n",
            "c          dict          n=1\n",
            "cap        CapturedIO    This will not display right away\\n\n",
            "i          int           999999\n",
            "t          int           999\n",
            "total      int           499999500000\n"
          ]
        }
      ]
    },
    {
      "cell_type": "code",
      "source": [
        "%%html\n",
        "<h1 style='color: blue'> Bleh </h1>"
      ],
      "metadata": {
        "id": "ayVzZ0pVFHWB",
        "outputId": "5f8e4f91-d2b4-4fb8-d2e7-13b49f47ee18",
        "colab": {
          "base_uri": "https://localhost:8080/",
          "height": 74
        }
      },
      "id": "ayVzZ0pVFHWB",
      "execution_count": 36,
      "outputs": [
        {
          "output_type": "display_data",
          "data": {
            "text/plain": [
              "<IPython.core.display.HTML object>"
            ],
            "text/html": [
              "<h1 style='color: blue'> Bleh </h1>\n"
            ]
          },
          "metadata": {}
        }
      ]
    }
  ],
  "metadata": {
    "kernelspec": {
      "display_name": "env",
      "language": "python",
      "name": "python3"
    },
    "language_info": {
      "codemirror_mode": {
        "name": "ipython",
        "version": 3
      },
      "file_extension": ".py",
      "mimetype": "text/x-python",
      "name": "python",
      "nbconvert_exporter": "python",
      "pygments_lexer": "ipython3",
      "version": "3.13.7"
    },
    "colab": {
      "provenance": [],
      "include_colab_link": true
    }
  },
  "nbformat": 4,
  "nbformat_minor": 5
}