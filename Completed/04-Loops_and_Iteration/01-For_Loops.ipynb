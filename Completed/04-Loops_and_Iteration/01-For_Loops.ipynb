{
  "cells": [
    {
      "cell_type": "markdown",
      "metadata": {
        "id": "view-in-github",
        "colab_type": "text"
      },
      "source": [
        "<a href=\"https://colab.research.google.com/github/TarisMajor/TarisMajor-DataScience-2025/blob/main/Completed/04-Loops_and_Iteration/01-For_Loops.ipynb\" target=\"_parent\"><img src=\"https://colab.research.google.com/assets/colab-badge.svg\" alt=\"Open In Colab\"/></a>"
      ]
    },
    {
      "cell_type": "markdown",
      "id": "813b2cf5",
      "metadata": {
        "id": "813b2cf5"
      },
      "source": [
        "# 📘 01 - For Loops\n",
        "\n",
        "Learn how to use `for` loops to iterate over sequences."
      ]
    },
    {
      "cell_type": "markdown",
      "id": "f6afd4b0",
      "metadata": {
        "id": "f6afd4b0"
      },
      "source": [
        "## ✅ Learning Goals\n",
        "- Use `for` with lists, strings, and `range()`\n",
        "- Understand loop variables and block structure"
      ]
    },
    {
      "cell_type": "code",
      "execution_count": 1,
      "id": "16d9ab8e",
      "metadata": {
        "id": "16d9ab8e",
        "outputId": "8b612b5e-9ea8-4b15-a743-c95d55512bb3",
        "colab": {
          "base_uri": "https://localhost:8080/"
        }
      },
      "outputs": [
        {
          "output_type": "stream",
          "name": "stdout",
          "text": [
            "apple\n",
            "banana\n",
            "cherry\n"
          ]
        }
      ],
      "source": [
        "# 🔁 Loop over a list\n",
        "fruits = ['apple', 'banana', 'cherry']\n",
        "for fruit in fruits:\n",
        "    print(fruit)"
      ]
    },
    {
      "cell_type": "code",
      "execution_count": 2,
      "id": "141bbd6b",
      "metadata": {
        "id": "141bbd6b",
        "outputId": "a7030b64-78ce-49e1-8e88-83c4b7c3afb3",
        "colab": {
          "base_uri": "https://localhost:8080/"
        }
      },
      "outputs": [
        {
          "output_type": "stream",
          "name": "stdout",
          "text": [
            "h\n",
            "e\n",
            "l\n",
            "l\n",
            "o\n"
          ]
        }
      ],
      "source": [
        "# 🔁 Loop over characters in a string\n",
        "word = 'hello'\n",
        "for char in word:\n",
        "    print(char)"
      ]
    },
    {
      "cell_type": "code",
      "execution_count": 3,
      "id": "76012a44",
      "metadata": {
        "id": "76012a44",
        "outputId": "39df1ed1-3c0b-434f-bba9-57fb12ee4ec6",
        "colab": {
          "base_uri": "https://localhost:8080/"
        }
      },
      "outputs": [
        {
          "output_type": "stream",
          "name": "stdout",
          "text": [
            "0\n",
            "1\n",
            "2\n",
            "3\n",
            "4\n"
          ]
        }
      ],
      "source": [
        "# 🔁 Using range()\n",
        "for i in range(5):\n",
        "    print(i)"
      ]
    },
    {
      "cell_type": "code",
      "execution_count": 4,
      "id": "43070de7",
      "metadata": {
        "id": "43070de7",
        "outputId": "e32ebe6d-67a4-4843-b051-9cbbae251110",
        "colab": {
          "base_uri": "https://localhost:8080/"
        }
      },
      "outputs": [
        {
          "output_type": "stream",
          "name": "stdout",
          "text": [
            "1 squared is 1\n",
            "2 squared is 4\n",
            "3 squared is 9\n",
            "4 squared is 16\n",
            "5 squared is 25\n"
          ]
        }
      ],
      "source": [
        "# ➕ Loop with math\n",
        "for i in range(1, 6):\n",
        "    print(f'{i} squared is', i ** 2)"
      ]
    },
    {
      "cell_type": "markdown",
      "id": "7f3e0f91",
      "metadata": {
        "id": "7f3e0f91"
      },
      "source": [
        "### ✏️ Your Turn\n",
        "Loop over a list of 3 favorite movies and print them in all caps."
      ]
    },
    {
      "cell_type": "code",
      "source": [
        "movies = ['Wall-E', 'A Series of Unfortunate Events', 'Howls Moving Castle']\n",
        "for movie in movies:\n",
        "    print(movie.upper())"
      ],
      "metadata": {
        "id": "ZZ7purSrR5hv",
        "outputId": "be9df24a-4f9a-40ab-8077-54d54c2c261c",
        "colab": {
          "base_uri": "https://localhost:8080/"
        }
      },
      "id": "ZZ7purSrR5hv",
      "execution_count": 7,
      "outputs": [
        {
          "output_type": "stream",
          "name": "stdout",
          "text": [
            "WALL-E\n",
            "A SERIES OF UNFORTUNATE EVENTS\n",
            "HOWLS MOVING CASTLE\n"
          ]
        }
      ]
    }
  ],
  "metadata": {
    "colab": {
      "provenance": [],
      "include_colab_link": true
    },
    "language_info": {
      "name": "python"
    },
    "kernelspec": {
      "name": "python3",
      "display_name": "Python 3"
    }
  },
  "nbformat": 4,
  "nbformat_minor": 5
}